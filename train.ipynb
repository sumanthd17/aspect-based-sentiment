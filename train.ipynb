{
  "nbformat": 4,
  "nbformat_minor": 0,
  "metadata": {
    "colab": {
      "name": "train.ipynb",
      "provenance": [],
      "collapsed_sections": [],
      "authorship_tag": "ABX9TyMdSXcnXCl8DtnwvkwjnFmx",
      "include_colab_link": true
    },
    "kernelspec": {
      "name": "python3",
      "display_name": "Python 3"
    },
    "accelerator": "GPU"
  },
  "cells": [
    {
      "cell_type": "markdown",
      "metadata": {
        "id": "view-in-github",
        "colab_type": "text"
      },
      "source": [
        "<a href=\"https://colab.research.google.com/github/sumanthd17/aspect-based-sentiment/blob/master/train.ipynb\" target=\"_parent\"><img src=\"https://colab.research.google.com/assets/colab-badge.svg\" alt=\"Open In Colab\"/></a>"
      ]
    },
    {
      "cell_type": "code",
      "metadata": {
        "id": "izN65hXWQD77",
        "colab_type": "code",
        "colab": {
          "base_uri": "https://localhost:8080/",
          "height": 102
        },
        "outputId": "ff02cf6c-2170-45f7-9418-b14fd6643bef"
      },
      "source": [
        "!ln -sf /opt/bin/nvidia-smi /usr/bin/nvidia-smi\n",
        "!pip install gputil\n",
        "!pip install psutil\n",
        "!pip install humanize\n",
        "import psutil\n",
        "import humanize\n",
        "import os\n",
        "import GPUtil as GPU\n",
        "GPUs = GPU.getGPUs()\n",
        "# XXX: only one GPU on Colab and isn’t guaranteed\n",
        "gpu = GPUs[0]\n",
        "def printm():\n",
        " process = psutil.Process(os.getpid())\n",
        " print(\"Gen RAM Free: \" + humanize.naturalsize( psutil.virtual_memory().available ), \" | Proc size: \" + humanize.naturalsize( process.memory_info().rss))\n",
        " print(\"GPU RAM Free: {0:.0f}MB | Used: {1:.0f}MB | Util {2:3.0f}% | Total {3:.0f}MB\".format(gpu.memoryFree, gpu.memoryUsed, gpu.memoryUtil*100, gpu.memoryTotal))\n",
        "printm()"
      ],
      "execution_count": 1,
      "outputs": [
        {
          "output_type": "stream",
          "text": [
            "Requirement already satisfied: gputil in /usr/local/lib/python3.6/dist-packages (1.4.0)\n",
            "Requirement already satisfied: psutil in /usr/local/lib/python3.6/dist-packages (5.4.8)\n",
            "Requirement already satisfied: humanize in /usr/local/lib/python3.6/dist-packages (0.5.1)\n",
            "Gen RAM Free: 12.7 GB  | Proc size: 160.6 MB\n",
            "GPU RAM Free: 15079MB | Used: 0MB | Util   0% | Total 15079MB\n"
          ],
          "name": "stdout"
        }
      ]
    },
    {
      "cell_type": "code",
      "metadata": {
        "id": "32dC4ovO-Hn6",
        "colab_type": "code",
        "colab": {
          "base_uri": "https://localhost:8080/",
          "height": 360
        },
        "outputId": "7d5ec597-a8c1-4bf7-933e-45aa2c11084c"
      },
      "source": [
        "!pip install transformers"
      ],
      "execution_count": 2,
      "outputs": [
        {
          "output_type": "stream",
          "text": [
            "Requirement already satisfied: transformers in /usr/local/lib/python3.6/dist-packages (3.0.2)\n",
            "Requirement already satisfied: tqdm>=4.27 in /usr/local/lib/python3.6/dist-packages (from transformers) (4.41.1)\n",
            "Requirement already satisfied: regex!=2019.12.17 in /usr/local/lib/python3.6/dist-packages (from transformers) (2019.12.20)\n",
            "Requirement already satisfied: tokenizers==0.8.1.rc1 in /usr/local/lib/python3.6/dist-packages (from transformers) (0.8.1rc1)\n",
            "Requirement already satisfied: sacremoses in /usr/local/lib/python3.6/dist-packages (from transformers) (0.0.43)\n",
            "Requirement already satisfied: requests in /usr/local/lib/python3.6/dist-packages (from transformers) (2.23.0)\n",
            "Requirement already satisfied: dataclasses; python_version < \"3.7\" in /usr/local/lib/python3.6/dist-packages (from transformers) (0.7)\n",
            "Requirement already satisfied: filelock in /usr/local/lib/python3.6/dist-packages (from transformers) (3.0.12)\n",
            "Requirement already satisfied: numpy in /usr/local/lib/python3.6/dist-packages (from transformers) (1.18.5)\n",
            "Requirement already satisfied: sentencepiece!=0.1.92 in /usr/local/lib/python3.6/dist-packages (from transformers) (0.1.91)\n",
            "Requirement already satisfied: packaging in /usr/local/lib/python3.6/dist-packages (from transformers) (20.4)\n",
            "Requirement already satisfied: joblib in /usr/local/lib/python3.6/dist-packages (from sacremoses->transformers) (0.16.0)\n",
            "Requirement already satisfied: click in /usr/local/lib/python3.6/dist-packages (from sacremoses->transformers) (7.1.2)\n",
            "Requirement already satisfied: six in /usr/local/lib/python3.6/dist-packages (from sacremoses->transformers) (1.15.0)\n",
            "Requirement already satisfied: chardet<4,>=3.0.2 in /usr/local/lib/python3.6/dist-packages (from requests->transformers) (3.0.4)\n",
            "Requirement already satisfied: certifi>=2017.4.17 in /usr/local/lib/python3.6/dist-packages (from requests->transformers) (2020.6.20)\n",
            "Requirement already satisfied: idna<3,>=2.5 in /usr/local/lib/python3.6/dist-packages (from requests->transformers) (2.10)\n",
            "Requirement already satisfied: urllib3!=1.25.0,!=1.25.1,<1.26,>=1.21.1 in /usr/local/lib/python3.6/dist-packages (from requests->transformers) (1.24.3)\n",
            "Requirement already satisfied: pyparsing>=2.0.2 in /usr/local/lib/python3.6/dist-packages (from packaging->transformers) (2.4.7)\n"
          ],
          "name": "stdout"
        }
      ]
    },
    {
      "cell_type": "code",
      "metadata": {
        "id": "MeKHfOoA95ky",
        "colab_type": "code",
        "colab": {
          "base_uri": "https://localhost:8080/",
          "height": 51
        },
        "outputId": "a98a3c14-d1ed-4933-c050-8a2d46c9cdd9"
      },
      "source": [
        "import time\n",
        "import datetime\n",
        "import random\n",
        "from tqdm import tqdm\n",
        "\n",
        "import numpy as np\n",
        "import pandas as pd\n",
        "\n",
        "import nltk\n",
        "nltk.download('punkt')\n",
        "\n",
        "import torch\n",
        "import torch.nn.functional as F\n",
        "import transformers as optimus"
      ],
      "execution_count": 3,
      "outputs": [
        {
          "output_type": "stream",
          "text": [
            "[nltk_data] Downloading package punkt to /root/nltk_data...\n",
            "[nltk_data]   Package punkt is already up-to-date!\n"
          ],
          "name": "stdout"
        }
      ]
    },
    {
      "cell_type": "code",
      "metadata": {
        "id": "jlVxGZoLY05g",
        "colab_type": "code",
        "colab": {
          "base_uri": "https://localhost:8080/",
          "height": 34
        },
        "outputId": "604a7f3e-d875-42f0-dc34-015b5ea5168b"
      },
      "source": [
        "!git clone https://github.com/sumanthd17/aspect-based-sentiment.git"
      ],
      "execution_count": 4,
      "outputs": [
        {
          "output_type": "stream",
          "text": [
            "fatal: destination path 'aspect-based-sentiment' already exists and is not an empty directory.\n"
          ],
          "name": "stdout"
        }
      ]
    },
    {
      "cell_type": "code",
      "metadata": {
        "id": "Yj-Nni9QY-1Z",
        "colab_type": "code",
        "colab": {
          "base_uri": "https://localhost:8080/",
          "height": 34
        },
        "outputId": "4a124e29-4cb8-4fe8-a4ff-e027b77ae05d"
      },
      "source": [
        "cd aspect-based-sentiment"
      ],
      "execution_count": 5,
      "outputs": [
        {
          "output_type": "stream",
          "text": [
            "/content/aspect-based-sentiment\n"
          ],
          "name": "stdout"
        }
      ]
    },
    {
      "cell_type": "code",
      "metadata": {
        "id": "C5GP5AnZ-O2A",
        "colab_type": "code",
        "colab": {}
      },
      "source": [
        "def load_train_data(input_dir):\n",
        "    df = pd.read_csv(input_dir + \"train-QA.csv\", sep=\"\\t\", names=['id', 'ques', 'ans', 'sentiment'])\n",
        "    return df"
      ],
      "execution_count": 6,
      "outputs": []
    },
    {
      "cell_type": "code",
      "metadata": {
        "id": "F7lOulxqD6PQ",
        "colab_type": "code",
        "colab": {}
      },
      "source": [
        "def load_val_data(input_dir):\n",
        "    df = pd.read_csv(input_dir + \"val-QA.csv\", sep=\"\\t\", names=['id', 'ques', 'ans', 'sentiment'])\n",
        "    return df"
      ],
      "execution_count": 7,
      "outputs": []
    },
    {
      "cell_type": "code",
      "metadata": {
        "id": "t9q16QCR-nFg",
        "colab_type": "code",
        "colab": {}
      },
      "source": [
        "def hyper_params():\n",
        "    BATCH_SIZE = 32\n",
        "    MAX_SEQ_LENGTH = 256\n",
        "    LEARNING_RATE = 2e-5\n",
        "    EPOCHS = 5\n",
        "    WARMUP = 0.1\n",
        "    return BATCH_SIZE, MAX_SEQ_LENGTH, LEARNING_RATE, WARMUP, EPOCHS"
      ],
      "execution_count": 8,
      "outputs": []
    },
    {
      "cell_type": "code",
      "metadata": {
        "id": "9h81rysT9-lP",
        "colab_type": "code",
        "colab": {}
      },
      "source": [
        "device = torch.device(\"cuda\" if torch.cuda.is_available() else \"cpu\")"
      ],
      "execution_count": 9,
      "outputs": []
    },
    {
      "cell_type": "code",
      "metadata": {
        "id": "mhRCLmNdYaG9",
        "colab_type": "code",
        "colab": {
          "base_uri": "https://localhost:8080/",
          "height": 68
        },
        "outputId": "51333201-0a6e-4e0a-98a0-04aa55785edd"
      },
      "source": [
        "!python create_data.py"
      ],
      "execution_count": 10,
      "outputs": [
        {
          "output_type": "stream",
          "text": [
            "2977\n",
            "747\n",
            "1491\n"
          ],
          "name": "stdout"
        }
      ]
    },
    {
      "cell_type": "code",
      "metadata": {
        "id": "RaWgHf8OY7-y",
        "colab_type": "code",
        "colab": {
          "base_uri": "https://localhost:8080/",
          "height": 51
        },
        "outputId": "6aed56d0-8574-4d19-bf5a-0743aaea764b"
      },
      "source": [
        "train_data = load_train_data('QA_pairs/')\n",
        "val_data = load_val_data('QA_pairs/')\n",
        "\n",
        "batch_size, max_seq_len, lr, warmup, epochs = hyper_params()\n",
        "num_training_steps = int(len(train_data) / batch_size) * epochs\n",
        "num_warmup_steps = warmup * num_training_steps\n",
        "print(len(train_data))\n",
        "print(len(val_data))"
      ],
      "execution_count": 11,
      "outputs": [
        {
          "output_type": "stream",
          "text": [
            "45025\n",
            "11246\n"
          ],
          "name": "stdout"
        }
      ]
    },
    {
      "cell_type": "code",
      "metadata": {
        "id": "21HzwGuiQJHq",
        "colab_type": "code",
        "colab": {}
      },
      "source": [
        "train_data = train_data[:10000]\n",
        "val_data = val_data[:5000]"
      ],
      "execution_count": 12,
      "outputs": []
    },
    {
      "cell_type": "code",
      "metadata": {
        "id": "f8Eu74yg49Tb",
        "colab_type": "code",
        "colab": {}
      },
      "source": [
        "tokenizer_class, pretrained_weights = (\n",
        "    optimus.BertTokenizer,\n",
        "    \"bert-base-uncased\",\n",
        ")\n",
        "\n",
        "tokenizer = tokenizer_class.from_pretrained(pretrained_weights)"
      ],
      "execution_count": 13,
      "outputs": []
    },
    {
      "cell_type": "code",
      "metadata": {
        "id": "DhvDpk3XDJ1x",
        "colab_type": "code",
        "colab": {}
      },
      "source": [
        "sent2idx = {\n",
        "    'None': 0,\n",
        "    'Positive': 1,\n",
        "    'Negative': 2\n",
        "}"
      ],
      "execution_count": 14,
      "outputs": []
    },
    {
      "cell_type": "code",
      "metadata": {
        "id": "skO5kvazcgmJ",
        "colab_type": "code",
        "colab": {}
      },
      "source": [
        "train = pd.DataFrame()\n",
        "\n",
        "question_tokens = train_data['ques'].apply(lambda x: tokenizer.encode(x, add_special_tokens=True))\n",
        "q_segment_tokens = question_tokens.apply(lambda x: [0]*len(x))\n",
        "\n",
        "answer_tokens = train_data['ans'].apply(lambda x: tokenizer.encode(x, add_special_tokens=True))\n",
        "answer_tokens = answer_tokens.apply(lambda x: [i for i in x if i != 101])\n",
        "a_segment_tokens = answer_tokens.apply(lambda x: [1]*len(x))\n",
        "\n",
        "train['input_ids'] = question_tokens + answer_tokens\n",
        "train['segment_ids'] = q_segment_tokens + a_segment_tokens\n",
        "\n",
        "train['input_mask'] = ''\n",
        "for i, row in train.iterrows():\n",
        "  train.iloc[i]['input_mask'] = [1]*len(train.iloc[i]['input_ids'])\n",
        "\n",
        "train['input_mask'] = train['input_mask'].apply(lambda x: x + (max_seq_len - len(x))*[0])\n",
        "train['input_ids'] = train['input_ids'].apply(lambda x: x + (max_seq_len - len(x))*[0])\n",
        "train['segment_ids'] = train['segment_ids'].apply(lambda x: x + (max_seq_len - len(x))*[0])\n",
        "\n",
        "train['label'] = ''\n",
        "train['label'] = train_data['sentiment'].apply(lambda x: sent2idx[x])"
      ],
      "execution_count": 15,
      "outputs": []
    },
    {
      "cell_type": "code",
      "metadata": {
        "id": "0_jgOd7Q-hh1",
        "colab_type": "code",
        "colab": {}
      },
      "source": [
        "val = pd.DataFrame()\n",
        "\n",
        "question_tokens = val_data['ques'].apply(lambda x: tokenizer.encode(x, add_special_tokens=True))\n",
        "q_segment_tokens = question_tokens.apply(lambda x: [0]*len(x))\n",
        "\n",
        "answer_tokens = val_data['ans'].apply(lambda x: tokenizer.encode(x, add_special_tokens=True))\n",
        "answer_tokens = answer_tokens.apply(lambda x: [i for i in x if i != 101])\n",
        "a_segment_tokens = answer_tokens.apply(lambda x: [1]*len(x))\n",
        "\n",
        "val['input_ids'] = question_tokens + answer_tokens\n",
        "val['segment_ids'] = q_segment_tokens + a_segment_tokens\n",
        "\n",
        "val['input_mask'] = ''\n",
        "for i, row in val.iterrows():\n",
        "  val.iloc[i]['input_mask'] = [1]*len(val.iloc[i]['input_ids'])\n",
        "\n",
        "val['input_mask'] = val['input_mask'].apply(lambda x: x + (max_seq_len - len(x))*[0])\n",
        "val['input_ids'] = val['input_ids'].apply(lambda x: x + (max_seq_len - len(x))*[0])\n",
        "val['segment_ids'] = val['segment_ids'].apply(lambda x: x + (max_seq_len - len(x))*[0])\n",
        "\n",
        "val['label'] = ''\n",
        "val['label'] = train_data['sentiment'].apply(lambda x: sent2idx[x])"
      ],
      "execution_count": 16,
      "outputs": []
    },
    {
      "cell_type": "code",
      "metadata": {
        "id": "DwyK7r-Og5n7",
        "colab_type": "code",
        "colab": {}
      },
      "source": [
        "from torch.utils.data import DataLoader, TensorDataset\n",
        "from torch.utils.data.sampler import RandomSampler"
      ],
      "execution_count": 17,
      "outputs": []
    },
    {
      "cell_type": "code",
      "metadata": {
        "id": "ouBDlK6ijqb_",
        "colab_type": "code",
        "colab": {}
      },
      "source": [
        "input_ids = torch.tensor([r for r in train['input_ids']], dtype=torch.long)\n",
        "input_masks = torch.tensor([r for r in train['input_mask']], dtype=torch.long)\n",
        "label_ids = torch.tensor([r for r in train['label']], dtype=torch.long)\n",
        "segment_ids = torch.tensor([r for r in train['segment_ids']], dtype=torch.long)"
      ],
      "execution_count": 18,
      "outputs": []
    },
    {
      "cell_type": "code",
      "metadata": {
        "id": "wYCJ4fv8j9Vr",
        "colab_type": "code",
        "colab": {}
      },
      "source": [
        "train_dataset = TensorDataset(input_ids, input_masks, segment_ids, label_ids)\n",
        "train_sampler = RandomSampler(train_dataset)\n",
        "train_dataloader = DataLoader(train_dataset, sampler=train_sampler, batch_size=batch_size)"
      ],
      "execution_count": 19,
      "outputs": []
    },
    {
      "cell_type": "code",
      "metadata": {
        "id": "UB9snmHSGy8F",
        "colab_type": "code",
        "colab": {}
      },
      "source": [
        "input_ids = torch.tensor([r for r in val['input_ids']], dtype=torch.long)\n",
        "input_masks = torch.tensor([r for r in val['input_mask']], dtype=torch.long)\n",
        "label_ids = torch.tensor([r for r in val['label']], dtype=torch.long)\n",
        "segment_ids = torch.tensor([r for r in val['segment_ids']], dtype=torch.long)"
      ],
      "execution_count": 20,
      "outputs": []
    },
    {
      "cell_type": "code",
      "metadata": {
        "id": "K8nJoUrQkZ2A",
        "colab_type": "code",
        "colab": {}
      },
      "source": [
        "val_dataset = TensorDataset(input_ids, input_masks, segment_ids, label_ids)\n",
        "val_sampler = RandomSampler(val_dataset)\n",
        "val_dataloader = DataLoader(val_dataset, sampler=val_sampler, batch_size=batch_size)"
      ],
      "execution_count": 21,
      "outputs": []
    },
    {
      "cell_type": "code",
      "metadata": {
        "id": "MMCg3_kR5Mg1",
        "colab_type": "code",
        "colab": {
          "base_uri": "https://localhost:8080/",
          "height": 122
        },
        "outputId": "67936497-eeb9-4742-9618-37b129306661"
      },
      "source": [
        "model_class, pretrained_weights = (\n",
        "    optimus.BertForSequenceClassification,\n",
        "    \"bert-base-uncased\",\n",
        ")\n",
        "\n",
        "model = model_class.from_pretrained(pretrained_weights, num_labels=3)"
      ],
      "execution_count": 22,
      "outputs": [
        {
          "output_type": "stream",
          "text": [
            "Some weights of the model checkpoint at bert-base-uncased were not used when initializing BertForSequenceClassification: ['cls.predictions.bias', 'cls.predictions.transform.dense.weight', 'cls.predictions.transform.dense.bias', 'cls.predictions.decoder.weight', 'cls.seq_relationship.weight', 'cls.seq_relationship.bias', 'cls.predictions.transform.LayerNorm.weight', 'cls.predictions.transform.LayerNorm.bias']\n",
            "- This IS expected if you are initializing BertForSequenceClassification from the checkpoint of a model trained on another task or with another architecture (e.g. initializing a BertForSequenceClassification model from a BertForPretraining model).\n",
            "- This IS NOT expected if you are initializing BertForSequenceClassification from the checkpoint of a model that you expect to be exactly identical (initializing a BertForSequenceClassification model from a BertForSequenceClassification model).\n",
            "Some weights of BertForSequenceClassification were not initialized from the model checkpoint at bert-base-uncased and are newly initialized: ['classifier.weight', 'classifier.bias']\n",
            "You should probably TRAIN this model on a down-stream task to be able to use it for predictions and inference.\n"
          ],
          "name": "stderr"
        }
      ]
    },
    {
      "cell_type": "code",
      "metadata": {
        "id": "f3nInvy8lv-C",
        "colab_type": "code",
        "colab": {}
      },
      "source": [
        "model = model.to(device)"
      ],
      "execution_count": 23,
      "outputs": []
    },
    {
      "cell_type": "code",
      "metadata": {
        "id": "MZ-uuUi7lxBU",
        "colab_type": "code",
        "colab": {}
      },
      "source": [
        "optimizer_params = [\n",
        "  {'params': [p for n, p in model.named_parameters()], 'weight_decay_rate': 0.0}\n",
        "]"
      ],
      "execution_count": 24,
      "outputs": []
    },
    {
      "cell_type": "code",
      "metadata": {
        "id": "55EeaheBbJ4z",
        "colab_type": "code",
        "colab": {}
      },
      "source": [
        "optimizer = optimus.AdamW(model.parameters(), lr=lr, correct_bias=False)\n",
        "scheduler = optimus.get_linear_schedule_with_warmup(optimizer, num_warmup_steps=num_warmup_steps, num_training_steps=num_training_steps)"
      ],
      "execution_count": 25,
      "outputs": []
    },
    {
      "cell_type": "code",
      "metadata": {
        "id": "lF6_krm1Msca",
        "colab_type": "code",
        "colab": {}
      },
      "source": [
        "seed_val = 42\n",
        "\n",
        "random.seed(seed_val)\n",
        "np.random.seed(seed_val)\n",
        "torch.manual_seed(seed_val)\n",
        "torch.cuda.manual_seed_all(seed_val)"
      ],
      "execution_count": 26,
      "outputs": []
    },
    {
      "cell_type": "code",
      "metadata": {
        "id": "Z00BzNJNHPIH",
        "colab_type": "code",
        "colab": {
          "base_uri": "https://localhost:8080/",
          "height": 1000
        },
        "outputId": "9a9650c8-cc09-42fa-9561-d3b014280be1"
      },
      "source": [
        "training_stats = []\n",
        "\n",
        "total_t0 = time.time()\n",
        "\n",
        "for epoch_i in range(0, 5):\n",
        "    ## TRAINING\n",
        "    print('======== Epoch {:} / {:} ========'.format(epoch_i + 1, epochs))\n",
        "    print('Training...')\n",
        "\n",
        "    t0 = time.time()\n",
        "\n",
        "    total_train_loss = 0\n",
        "\n",
        "    model.train()\n",
        "\n",
        "    for step, batch in enumerate(tqdm(train_dataloader)):\n",
        "\n",
        "        if step % 100 == 0 and not step == 0:\n",
        "            elapsed = str(datetime.timedelta(seconds=int(round(time.time() - t0))))\n",
        "            \n",
        "            print('  Batch {:>5,}  of  {:>5,}.    Elapsed: {:}.'.format(step, len(train_dataloader), elapsed))\n",
        "\n",
        "        input_ids, input_mask, segment_ids, label_ids = batch\n",
        "  \n",
        "        input_ids = input_ids.to(device)\n",
        "        input_mask = input_mask.to(device)\n",
        "        segment_ids = segment_ids.to(device)\n",
        "        label_ids = label_ids.to(device)\n",
        "\n",
        "        model.zero_grad()        \n",
        "\n",
        "        loss, _ = model(input_ids=input_ids,\n",
        "                        attention_mask=input_mask,\n",
        "                        token_type_ids=segment_ids,\n",
        "                        labels=label_ids)\n",
        "\n",
        "        total_train_loss += loss.item()\n",
        "\n",
        "        loss.backward()\n",
        "\n",
        "        torch.nn.utils.clip_grad_norm_(model.parameters(), 1.0)\n",
        "\n",
        "        optimizer.step()\n",
        "        scheduler.step()\n",
        "\n",
        "    avg_train_loss = total_train_loss / len(train_dataloader)          \n",
        "    \n",
        "    training_time = str(datetime.timedelta(seconds=int(round(time.time() - t0))))\n",
        "\n",
        "    print(\"\")\n",
        "    print(\"  Average training loss: {0:.2f}\".format(avg_train_loss))\n",
        "    print(\"  Training epcoh took: {:}\".format(training_time))\n",
        "        \n",
        "    ## VALIDATION\n",
        "\n",
        "    print(\"\")\n",
        "    print(\"Running Validation...\")\n",
        "\n",
        "    t0 = time.time()\n",
        "\n",
        "    model.eval()\n",
        "\n",
        "    total_eval_accuracy = 0\n",
        "    total_eval_loss = 0\n",
        "    nb_eval_steps = 0\n",
        "\n",
        "    for step, batch in enumerate(tqdm(val_dataloader)):\n",
        "        \n",
        "        input_ids, input_mask, segment_ids, label_ids = batch\n",
        "  \n",
        "        input_ids = input_ids.to(device)\n",
        "        input_mask = input_mask.to(device)\n",
        "        segment_ids = segment_ids.to(device)\n",
        "        label_ids = label_ids.to(device)\n",
        "        \n",
        "        with torch.no_grad():        \n",
        "            loss, logits = model(input_ids=input_ids,\n",
        "                        attention_mask=input_mask,\n",
        "                        token_type_ids=segment_ids,\n",
        "                        labels=label_ids)\n",
        "            \n",
        "        total_eval_loss += loss.item()\n",
        "\n",
        "        logits = F.softmax(logits, dim=-1)\n",
        "        logits = logits.detach().cpu().numpy()\n",
        "        label_ids = label_ids.to('cpu').numpy()\n",
        "        outputs = np.argmax(logits, axis=1)\n",
        "\n",
        "        total_eval_accuracy += np.sum(outputs == label_ids)\n",
        "        \n",
        "\n",
        "    avg_val_accuracy = total_eval_accuracy / len(val_dataloader)\n",
        "    print(\"  Accuracy: {0:.2f}\".format(avg_val_accuracy))\n",
        "\n",
        "    avg_val_loss = total_eval_loss / len(val_dataloader)\n",
        "    \n",
        "    validation_time = str(datetime.timedelta(seconds=int(round(time.time() - t0))))\n",
        "    \n",
        "    print(\"  Validation Loss: {0:.2f}\".format(avg_val_loss))\n",
        "    print(\"  Validation took: {:}\".format(validation_time))\n",
        "\n",
        "    training_stats.append(\n",
        "        {\n",
        "            'epoch': epoch_i + 1,\n",
        "            'Training Loss': avg_train_loss,\n",
        "            'Valid. Loss': avg_val_loss,\n",
        "            'Valid. Accur.': avg_val_accuracy,\n",
        "            'Training Time': training_time,\n",
        "            'Validation Time': validation_time\n",
        "        }\n",
        "    )\n",
        "\n",
        "print(\"\")\n",
        "print(\"Training complete!\")\n",
        "\n",
        "print(\"Total training took {:} (h:mm:ss)\".format(str(datetime.timedelta(seconds=int(round(time.time() - total_t0))))))"
      ],
      "execution_count": 27,
      "outputs": [
        {
          "output_type": "stream",
          "text": [
            "\r  0%|          | 0/313 [00:00<?, ?it/s]"
          ],
          "name": "stderr"
        },
        {
          "output_type": "stream",
          "text": [
            "======== Epoch 1 / 5 ========\n",
            "Training...\n"
          ],
          "name": "stdout"
        },
        {
          "output_type": "stream",
          "text": [
            " 32%|███▏      | 100/313 [02:19<05:00,  1.41s/it]"
          ],
          "name": "stderr"
        },
        {
          "output_type": "stream",
          "text": [
            "  Batch   100  of    313.    Elapsed: 0:02:20.\n"
          ],
          "name": "stdout"
        },
        {
          "output_type": "stream",
          "text": [
            " 64%|██████▍   | 200/313 [04:40<02:39,  1.41s/it]"
          ],
          "name": "stderr"
        },
        {
          "output_type": "stream",
          "text": [
            "  Batch   200  of    313.    Elapsed: 0:04:40.\n"
          ],
          "name": "stdout"
        },
        {
          "output_type": "stream",
          "text": [
            " 96%|█████████▌| 300/313 [07:01<00:18,  1.40s/it]"
          ],
          "name": "stderr"
        },
        {
          "output_type": "stream",
          "text": [
            "  Batch   300  of    313.    Elapsed: 0:07:01.\n"
          ],
          "name": "stdout"
        },
        {
          "output_type": "stream",
          "text": [
            "100%|██████████| 313/313 [07:18<00:00,  1.40s/it]\n",
            "  0%|          | 0/157 [00:00<?, ?it/s]"
          ],
          "name": "stderr"
        },
        {
          "output_type": "stream",
          "text": [
            "\n",
            "  Average training loss: 0.40\n",
            "  Training epcoh took: 0:07:19\n",
            "\n",
            "Running Validation...\n"
          ],
          "name": "stdout"
        },
        {
          "output_type": "stream",
          "text": [
            "100%|██████████| 157/157 [01:21<00:00,  1.92it/s]\n",
            "  0%|          | 0/313 [00:00<?, ?it/s]"
          ],
          "name": "stderr"
        },
        {
          "output_type": "stream",
          "text": [
            "  Accuracy: 28.32\n",
            "  Validation Loss: 0.50\n",
            "  Validation took: 0:01:22\n",
            "======== Epoch 2 / 5 ========\n",
            "Training...\n"
          ],
          "name": "stdout"
        },
        {
          "output_type": "stream",
          "text": [
            " 32%|███▏      | 100/313 [02:20<04:59,  1.41s/it]"
          ],
          "name": "stderr"
        },
        {
          "output_type": "stream",
          "text": [
            "  Batch   100  of    313.    Elapsed: 0:02:21.\n"
          ],
          "name": "stdout"
        },
        {
          "output_type": "stream",
          "text": [
            " 64%|██████▍   | 200/313 [04:41<02:38,  1.40s/it]"
          ],
          "name": "stderr"
        },
        {
          "output_type": "stream",
          "text": [
            "  Batch   200  of    313.    Elapsed: 0:04:41.\n"
          ],
          "name": "stdout"
        },
        {
          "output_type": "stream",
          "text": [
            " 96%|█████████▌| 300/313 [07:01<00:18,  1.41s/it]"
          ],
          "name": "stderr"
        },
        {
          "output_type": "stream",
          "text": [
            "  Batch   300  of    313.    Elapsed: 0:07:02.\n"
          ],
          "name": "stdout"
        },
        {
          "output_type": "stream",
          "text": [
            "100%|██████████| 313/313 [07:19<00:00,  1.40s/it]\n",
            "  0%|          | 0/157 [00:00<?, ?it/s]"
          ],
          "name": "stderr"
        },
        {
          "output_type": "stream",
          "text": [
            "\n",
            "  Average training loss: 0.16\n",
            "  Training epcoh took: 0:07:20\n",
            "\n",
            "Running Validation...\n"
          ],
          "name": "stdout"
        },
        {
          "output_type": "stream",
          "text": [
            "100%|██████████| 157/157 [01:21<00:00,  1.92it/s]\n",
            "  0%|          | 0/313 [00:00<?, ?it/s]"
          ],
          "name": "stderr"
        },
        {
          "output_type": "stream",
          "text": [
            "  Accuracy: 27.37\n",
            "  Validation Loss: 0.56\n",
            "  Validation took: 0:01:22\n",
            "======== Epoch 3 / 5 ========\n",
            "Training...\n"
          ],
          "name": "stdout"
        },
        {
          "output_type": "stream",
          "text": [
            " 32%|███▏      | 100/313 [02:20<05:00,  1.41s/it]"
          ],
          "name": "stderr"
        },
        {
          "output_type": "stream",
          "text": [
            "  Batch   100  of    313.    Elapsed: 0:02:20.\n"
          ],
          "name": "stdout"
        },
        {
          "output_type": "stream",
          "text": [
            " 64%|██████▍   | 200/313 [04:41<02:39,  1.41s/it]"
          ],
          "name": "stderr"
        },
        {
          "output_type": "stream",
          "text": [
            "  Batch   200  of    313.    Elapsed: 0:04:41.\n"
          ],
          "name": "stdout"
        },
        {
          "output_type": "stream",
          "text": [
            " 96%|█████████▌| 300/313 [07:01<00:18,  1.40s/it]"
          ],
          "name": "stderr"
        },
        {
          "output_type": "stream",
          "text": [
            "  Batch   300  of    313.    Elapsed: 0:07:02.\n"
          ],
          "name": "stdout"
        },
        {
          "output_type": "stream",
          "text": [
            "100%|██████████| 313/313 [07:19<00:00,  1.40s/it]\n",
            "  0%|          | 0/157 [00:00<?, ?it/s]"
          ],
          "name": "stderr"
        },
        {
          "output_type": "stream",
          "text": [
            "\n",
            "  Average training loss: 0.12\n",
            "  Training epcoh took: 0:07:19\n",
            "\n",
            "Running Validation...\n"
          ],
          "name": "stdout"
        },
        {
          "output_type": "stream",
          "text": [
            "100%|██████████| 157/157 [01:21<00:00,  1.92it/s]\n",
            "  0%|          | 0/313 [00:00<?, ?it/s]"
          ],
          "name": "stderr"
        },
        {
          "output_type": "stream",
          "text": [
            "  Accuracy: 27.71\n",
            "  Validation Loss: 0.61\n",
            "  Validation took: 0:01:22\n",
            "======== Epoch 4 / 5 ========\n",
            "Training...\n"
          ],
          "name": "stdout"
        },
        {
          "output_type": "stream",
          "text": [
            " 32%|███▏      | 100/313 [02:20<04:59,  1.40s/it]"
          ],
          "name": "stderr"
        },
        {
          "output_type": "stream",
          "text": [
            "  Batch   100  of    313.    Elapsed: 0:02:20.\n"
          ],
          "name": "stdout"
        },
        {
          "output_type": "stream",
          "text": [
            " 64%|██████▍   | 200/313 [04:40<02:38,  1.40s/it]"
          ],
          "name": "stderr"
        },
        {
          "output_type": "stream",
          "text": [
            "  Batch   200  of    313.    Elapsed: 0:04:41.\n"
          ],
          "name": "stdout"
        },
        {
          "output_type": "stream",
          "text": [
            " 96%|█████████▌| 300/313 [07:00<00:18,  1.40s/it]"
          ],
          "name": "stderr"
        },
        {
          "output_type": "stream",
          "text": [
            "  Batch   300  of    313.    Elapsed: 0:07:01.\n"
          ],
          "name": "stdout"
        },
        {
          "output_type": "stream",
          "text": [
            "100%|██████████| 313/313 [07:18<00:00,  1.40s/it]\n",
            "  0%|          | 0/157 [00:00<?, ?it/s]"
          ],
          "name": "stderr"
        },
        {
          "output_type": "stream",
          "text": [
            "\n",
            "  Average training loss: 0.08\n",
            "  Training epcoh took: 0:07:18\n",
            "\n",
            "Running Validation...\n"
          ],
          "name": "stdout"
        },
        {
          "output_type": "stream",
          "text": [
            "100%|██████████| 157/157 [01:21<00:00,  1.93it/s]\n",
            "  0%|          | 0/313 [00:00<?, ?it/s]"
          ],
          "name": "stderr"
        },
        {
          "output_type": "stream",
          "text": [
            "  Accuracy: 27.73\n",
            "  Validation Loss: 0.72\n",
            "  Validation took: 0:01:22\n",
            "======== Epoch 5 / 5 ========\n",
            "Training...\n"
          ],
          "name": "stdout"
        },
        {
          "output_type": "stream",
          "text": [
            " 32%|███▏      | 100/313 [02:20<04:59,  1.41s/it]"
          ],
          "name": "stderr"
        },
        {
          "output_type": "stream",
          "text": [
            "  Batch   100  of    313.    Elapsed: 0:02:20.\n"
          ],
          "name": "stdout"
        },
        {
          "output_type": "stream",
          "text": [
            " 64%|██████▍   | 200/313 [04:40<02:38,  1.40s/it]"
          ],
          "name": "stderr"
        },
        {
          "output_type": "stream",
          "text": [
            "  Batch   200  of    313.    Elapsed: 0:04:41.\n"
          ],
          "name": "stdout"
        },
        {
          "output_type": "stream",
          "text": [
            " 96%|█████████▌| 300/313 [07:00<00:18,  1.40s/it]"
          ],
          "name": "stderr"
        },
        {
          "output_type": "stream",
          "text": [
            "  Batch   300  of    313.    Elapsed: 0:07:01.\n"
          ],
          "name": "stdout"
        },
        {
          "output_type": "stream",
          "text": [
            "100%|██████████| 313/313 [07:18<00:00,  1.40s/it]\n",
            "  0%|          | 0/157 [00:00<?, ?it/s]"
          ],
          "name": "stderr"
        },
        {
          "output_type": "stream",
          "text": [
            "\n",
            "  Average training loss: 0.06\n",
            "  Training epcoh took: 0:07:18\n",
            "\n",
            "Running Validation...\n"
          ],
          "name": "stdout"
        },
        {
          "output_type": "stream",
          "text": [
            "100%|██████████| 157/157 [01:21<00:00,  1.91it/s]"
          ],
          "name": "stderr"
        },
        {
          "output_type": "stream",
          "text": [
            "  Accuracy: 27.90\n",
            "  Validation Loss: 0.64\n",
            "  Validation took: 0:01:22\n",
            "\n",
            "Training complete!\n",
            "Total training took 0:43:23 (h:mm:ss)\n"
          ],
          "name": "stdout"
        },
        {
          "output_type": "stream",
          "text": [
            "\n"
          ],
          "name": "stderr"
        }
      ]
    },
    {
      "cell_type": "code",
      "metadata": {
        "id": "9BDQmQKLMtpW",
        "colab_type": "code",
        "colab": {}
      },
      "source": [
        "## INFERENCE\n",
        "\n",
        "def load_test_data(input_dir):\n",
        "    df = pd.read_csv(input_dir + \"test-QA.csv\", sep=\"\\t\", names=['id', 'ques', 'ans', 'sentiment'])\n",
        "    return df"
      ],
      "execution_count": 28,
      "outputs": []
    },
    {
      "cell_type": "code",
      "metadata": {
        "id": "oSuWustPabcf",
        "colab_type": "code",
        "colab": {}
      },
      "source": [
        "test_data = load_test_data('QA_pairs/')"
      ],
      "execution_count": 29,
      "outputs": []
    },
    {
      "cell_type": "code",
      "metadata": {
        "id": "W2IIRUTwMIB0",
        "colab_type": "code",
        "colab": {}
      },
      "source": [
        "idx2sentiment = {\n",
        "    0: \"None\",\n",
        "    1: \"Positive\",\n",
        "    2: \"Negative\"\n",
        "}"
      ],
      "execution_count": 30,
      "outputs": []
    },
    {
      "cell_type": "code",
      "metadata": {
        "id": "kcx4yXFcMcrL",
        "colab_type": "code",
        "colab": {}
      },
      "source": [
        "all_aspects = ['price',\n",
        "               'shopping',\n",
        "               'transit-location', \n",
        "               'safety',\n",
        "               'nightlife',\n",
        "               'live',\n",
        "               'multiculture',\n",
        "               'green-nature',\n",
        "               'touristy',\n",
        "               'quiet',\n",
        "               'dining',\n",
        "               'general']"
      ],
      "execution_count": 31,
      "outputs": []
    },
    {
      "cell_type": "code",
      "metadata": {
        "id": "gdzGi4kP4nyH",
        "colab_type": "code",
        "colab": {}
      },
      "source": [
        "test_grouped_by_id = test_data.groupby(['id'])"
      ],
      "execution_count": 32,
      "outputs": []
    },
    {
      "cell_type": "code",
      "metadata": {
        "id": "p1XbQS9D60PQ",
        "colab_type": "code",
        "colab": {
          "base_uri": "https://localhost:8080/",
          "height": 34
        },
        "outputId": "1e26550e-a056-4bc4-f827-54c929866f3b"
      },
      "source": [
        "model.eval()\n",
        "\n",
        "final_preds = pd.DataFrame()\n",
        "\n",
        "for id, group in tqdm(test_grouped_by_id):\n",
        "  test = pd.DataFrame()\n",
        "\n",
        "  question_tokens = group['ques'].apply(lambda x: tokenizer.encode(x, add_special_tokens=True))\n",
        "  q_segment_tokens = question_tokens.apply(lambda x: [0]*len(x))\n",
        "\n",
        "  answer_tokens = group['ans'].apply(lambda x: tokenizer.encode(x, add_special_tokens=True))\n",
        "  answer_tokens = answer_tokens.apply(lambda x: [i for i in x if i != 101])\n",
        "  a_segment_tokens = answer_tokens.apply(lambda x: [1]*len(x))\n",
        "\n",
        "  test['input_ids'] = question_tokens + answer_tokens\n",
        "  test['segment_ids'] = q_segment_tokens + a_segment_tokens\n",
        "\n",
        "  test['input_mask'] = test['input_ids'].apply(lambda x: [1]*len(x))\n",
        "\n",
        "  test['input_mask'] = test['input_mask'].apply(lambda x: x + (max_seq_len - len(x))*[0])\n",
        "  test['input_ids'] = test['input_ids'].apply(lambda x: x + (max_seq_len - len(x))*[0])\n",
        "  test['segment_ids'] = test['segment_ids'].apply(lambda x: x + (max_seq_len - len(x))*[0])\n",
        "\n",
        "  test['label'] = ''\n",
        "  test['label'] = group['sentiment'].apply(lambda x: sent2idx[x])\n",
        "\n",
        "  input_ids = torch.tensor([r for r in test['input_ids']], dtype=torch.long)\n",
        "  input_mask = torch.tensor([r for r in test['input_mask']], dtype=torch.long)\n",
        "  label_ids = torch.tensor([r for r in test['label']], dtype=torch.long)\n",
        "  segment_ids = torch.tensor([r for r in test['segment_ids']], dtype=torch.long)\n",
        "\n",
        "  input_ids = input_ids.to(device)\n",
        "  input_mask = input_mask.to(device)\n",
        "  segment_ids = segment_ids.to(device)\n",
        "  label_ids = label_ids.to(device)\n",
        "\n",
        "  with torch.no_grad():        \n",
        "    loss, logits = model(input_ids=input_ids,\n",
        "                        attention_mask=input_mask,\n",
        "                        token_type_ids=segment_ids,\n",
        "                        labels=label_ids)\n",
        "\n",
        "  logits = F.softmax(logits, dim=-1)\n",
        "  logits = logits.detach().cpu().numpy()\n",
        "  label_ids = label_ids.to('cpu').numpy()\n",
        "  outputs = np.argmax(logits, axis=1)\n",
        "\n",
        "  test['pred'] = outputs\n",
        "\n",
        "  res = [idx for idx, val in enumerate(outputs) if val != 0]\n",
        "  for val in res:\n",
        "    d = {}\n",
        "    d['id'] = id\n",
        "    d['text'] = group.iloc[val]['ans']\n",
        "    d['aspect'] = group.iloc[val]['ques'].split(' ')[6]\n",
        "    d['sentiment'] = idx2sentiment[outputs[val]]\n",
        "    d['target'] = 'LOCATION1' if 'LOCATION1' in group.iloc[val]['ans'] else 'LOCATION2'\n",
        "    final_preds = final_preds.append(d, ignore_index=True)"
      ],
      "execution_count": 34,
      "outputs": [
        {
          "output_type": "stream",
          "text": [
            "100%|██████████| 1491/1491 [06:32<00:00,  3.80it/s]\n"
          ],
          "name": "stderr"
        }
      ]
    },
    {
      "cell_type": "code",
      "metadata": {
        "id": "jW0r1hLL4uSJ",
        "colab_type": "code",
        "colab": {
          "base_uri": "https://localhost:8080/",
          "height": 289
        },
        "outputId": "46d75984-489c-4499-abb0-0ab39fe49ee5"
      },
      "source": [
        "!nvidia-smi"
      ],
      "execution_count": 36,
      "outputs": [
        {
          "output_type": "stream",
          "text": [
            "Tue Jul 28 17:27:35 2020       \n",
            "+-----------------------------------------------------------------------------+\n",
            "| NVIDIA-SMI 418.67       Driver Version: 418.67       CUDA Version: 10.1     |\n",
            "|-------------------------------+----------------------+----------------------+\n",
            "| GPU  Name        Persistence-M| Bus-Id        Disp.A | Volatile Uncorr. ECC |\n",
            "| Fan  Temp  Perf  Pwr:Usage/Cap|         Memory-Usage | GPU-Util  Compute M. |\n",
            "|===============================+======================+======================|\n",
            "|   0  Tesla T4            Off  | 00000000:00:04.0 Off |                    0 |\n",
            "| N/A   70C    P0    32W /  70W |  11353MiB / 15079MiB |      0%      Default |\n",
            "+-------------------------------+----------------------+----------------------+\n",
            "                                                                               \n",
            "+-----------------------------------------------------------------------------+\n",
            "| Processes:                                                       GPU Memory |\n",
            "|  GPU       PID   Type   Process name                             Usage      |\n",
            "|=============================================================================|\n",
            "+-----------------------------------------------------------------------------+\n"
          ],
          "name": "stdout"
        }
      ]
    },
    {
      "cell_type": "code",
      "metadata": {
        "id": "OEaPRllzdrTN",
        "colab_type": "code",
        "colab": {}
      },
      "source": [
        "final_preds.to_csv('prediction.csv', index=False)"
      ],
      "execution_count": 37,
      "outputs": []
    },
    {
      "cell_type": "code",
      "metadata": {
        "id": "VjIF3H6Ody5E",
        "colab_type": "code",
        "colab": {}
      },
      "source": [
        ""
      ],
      "execution_count": null,
      "outputs": []
    }
  ]
}
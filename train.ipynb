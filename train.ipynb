{
  "nbformat": 4,
  "nbformat_minor": 0,
  "metadata": {
    "colab": {
      "name": "train.ipynb",
      "provenance": [],
      "collapsed_sections": [],
      "authorship_tag": "ABX9TyOK5JJZcInZDDlAD7XxuIe1",
      "include_colab_link": true
    },
    "kernelspec": {
      "name": "python3",
      "display_name": "Python 3"
    },
    "accelerator": "GPU",
    "widgets": {
      "application/vnd.jupyter.widget-state+json": {
        "95826926871645ebb0f5cdf29c5d292a": {
          "model_module": "@jupyter-widgets/controls",
          "model_name": "HBoxModel",
          "state": {
            "_view_name": "HBoxView",
            "_dom_classes": [],
            "_model_name": "HBoxModel",
            "_view_module": "@jupyter-widgets/controls",
            "_model_module_version": "1.5.0",
            "_view_count": null,
            "_view_module_version": "1.5.0",
            "box_style": "",
            "layout": "IPY_MODEL_f4e90c8017fc48f190b390ac414ed8bf",
            "_model_module": "@jupyter-widgets/controls",
            "children": [
              "IPY_MODEL_89adb7ae66694891b793ddde1a186d9d",
              "IPY_MODEL_246ee9e2f2a2496eb07beaa77199f63a"
            ]
          }
        },
        "f4e90c8017fc48f190b390ac414ed8bf": {
          "model_module": "@jupyter-widgets/base",
          "model_name": "LayoutModel",
          "state": {
            "_view_name": "LayoutView",
            "grid_template_rows": null,
            "right": null,
            "justify_content": null,
            "_view_module": "@jupyter-widgets/base",
            "overflow": null,
            "_model_module_version": "1.2.0",
            "_view_count": null,
            "flex_flow": null,
            "width": null,
            "min_width": null,
            "border": null,
            "align_items": null,
            "bottom": null,
            "_model_module": "@jupyter-widgets/base",
            "top": null,
            "grid_column": null,
            "overflow_y": null,
            "overflow_x": null,
            "grid_auto_flow": null,
            "grid_area": null,
            "grid_template_columns": null,
            "flex": null,
            "_model_name": "LayoutModel",
            "justify_items": null,
            "grid_row": null,
            "max_height": null,
            "align_content": null,
            "visibility": null,
            "align_self": null,
            "height": null,
            "min_height": null,
            "padding": null,
            "grid_auto_rows": null,
            "grid_gap": null,
            "max_width": null,
            "order": null,
            "_view_module_version": "1.2.0",
            "grid_template_areas": null,
            "object_position": null,
            "object_fit": null,
            "grid_auto_columns": null,
            "margin": null,
            "display": null,
            "left": null
          }
        },
        "89adb7ae66694891b793ddde1a186d9d": {
          "model_module": "@jupyter-widgets/controls",
          "model_name": "FloatProgressModel",
          "state": {
            "_view_name": "ProgressView",
            "style": "IPY_MODEL_7638f6c681064e1887987e038abe4053",
            "_dom_classes": [],
            "description": "Downloading: 100%",
            "_model_name": "FloatProgressModel",
            "bar_style": "success",
            "max": 231508,
            "_view_module": "@jupyter-widgets/controls",
            "_model_module_version": "1.5.0",
            "value": 231508,
            "_view_count": null,
            "_view_module_version": "1.5.0",
            "orientation": "horizontal",
            "min": 0,
            "description_tooltip": null,
            "_model_module": "@jupyter-widgets/controls",
            "layout": "IPY_MODEL_c8c654c2353c48c887d6cdbdcde3b314"
          }
        },
        "246ee9e2f2a2496eb07beaa77199f63a": {
          "model_module": "@jupyter-widgets/controls",
          "model_name": "HTMLModel",
          "state": {
            "_view_name": "HTMLView",
            "style": "IPY_MODEL_d3ff1a73c2b5470baf87515c3f5f4a25",
            "_dom_classes": [],
            "description": "",
            "_model_name": "HTMLModel",
            "placeholder": "​",
            "_view_module": "@jupyter-widgets/controls",
            "_model_module_version": "1.5.0",
            "value": " 232k/232k [00:00&lt;00:00, 2.35MB/s]",
            "_view_count": null,
            "_view_module_version": "1.5.0",
            "description_tooltip": null,
            "_model_module": "@jupyter-widgets/controls",
            "layout": "IPY_MODEL_7272077c3984479c9127a1fc928a2941"
          }
        },
        "7638f6c681064e1887987e038abe4053": {
          "model_module": "@jupyter-widgets/controls",
          "model_name": "ProgressStyleModel",
          "state": {
            "_view_name": "StyleView",
            "_model_name": "ProgressStyleModel",
            "description_width": "initial",
            "_view_module": "@jupyter-widgets/base",
            "_model_module_version": "1.5.0",
            "_view_count": null,
            "_view_module_version": "1.2.0",
            "bar_color": null,
            "_model_module": "@jupyter-widgets/controls"
          }
        },
        "c8c654c2353c48c887d6cdbdcde3b314": {
          "model_module": "@jupyter-widgets/base",
          "model_name": "LayoutModel",
          "state": {
            "_view_name": "LayoutView",
            "grid_template_rows": null,
            "right": null,
            "justify_content": null,
            "_view_module": "@jupyter-widgets/base",
            "overflow": null,
            "_model_module_version": "1.2.0",
            "_view_count": null,
            "flex_flow": null,
            "width": null,
            "min_width": null,
            "border": null,
            "align_items": null,
            "bottom": null,
            "_model_module": "@jupyter-widgets/base",
            "top": null,
            "grid_column": null,
            "overflow_y": null,
            "overflow_x": null,
            "grid_auto_flow": null,
            "grid_area": null,
            "grid_template_columns": null,
            "flex": null,
            "_model_name": "LayoutModel",
            "justify_items": null,
            "grid_row": null,
            "max_height": null,
            "align_content": null,
            "visibility": null,
            "align_self": null,
            "height": null,
            "min_height": null,
            "padding": null,
            "grid_auto_rows": null,
            "grid_gap": null,
            "max_width": null,
            "order": null,
            "_view_module_version": "1.2.0",
            "grid_template_areas": null,
            "object_position": null,
            "object_fit": null,
            "grid_auto_columns": null,
            "margin": null,
            "display": null,
            "left": null
          }
        },
        "d3ff1a73c2b5470baf87515c3f5f4a25": {
          "model_module": "@jupyter-widgets/controls",
          "model_name": "DescriptionStyleModel",
          "state": {
            "_view_name": "StyleView",
            "_model_name": "DescriptionStyleModel",
            "description_width": "",
            "_view_module": "@jupyter-widgets/base",
            "_model_module_version": "1.5.0",
            "_view_count": null,
            "_view_module_version": "1.2.0",
            "_model_module": "@jupyter-widgets/controls"
          }
        },
        "7272077c3984479c9127a1fc928a2941": {
          "model_module": "@jupyter-widgets/base",
          "model_name": "LayoutModel",
          "state": {
            "_view_name": "LayoutView",
            "grid_template_rows": null,
            "right": null,
            "justify_content": null,
            "_view_module": "@jupyter-widgets/base",
            "overflow": null,
            "_model_module_version": "1.2.0",
            "_view_count": null,
            "flex_flow": null,
            "width": null,
            "min_width": null,
            "border": null,
            "align_items": null,
            "bottom": null,
            "_model_module": "@jupyter-widgets/base",
            "top": null,
            "grid_column": null,
            "overflow_y": null,
            "overflow_x": null,
            "grid_auto_flow": null,
            "grid_area": null,
            "grid_template_columns": null,
            "flex": null,
            "_model_name": "LayoutModel",
            "justify_items": null,
            "grid_row": null,
            "max_height": null,
            "align_content": null,
            "visibility": null,
            "align_self": null,
            "height": null,
            "min_height": null,
            "padding": null,
            "grid_auto_rows": null,
            "grid_gap": null,
            "max_width": null,
            "order": null,
            "_view_module_version": "1.2.0",
            "grid_template_areas": null,
            "object_position": null,
            "object_fit": null,
            "grid_auto_columns": null,
            "margin": null,
            "display": null,
            "left": null
          }
        },
        "8015bb9c01904d24b81e2d2a5849ac3c": {
          "model_module": "@jupyter-widgets/controls",
          "model_name": "HBoxModel",
          "state": {
            "_view_name": "HBoxView",
            "_dom_classes": [],
            "_model_name": "HBoxModel",
            "_view_module": "@jupyter-widgets/controls",
            "_model_module_version": "1.5.0",
            "_view_count": null,
            "_view_module_version": "1.5.0",
            "box_style": "",
            "layout": "IPY_MODEL_396d46f576454e95a81b6a18cb7bf063",
            "_model_module": "@jupyter-widgets/controls",
            "children": [
              "IPY_MODEL_e91f5fda3d7e4690bb6ef6cc01710121",
              "IPY_MODEL_223fd41510284fd581f71c67950ce8a9"
            ]
          }
        },
        "396d46f576454e95a81b6a18cb7bf063": {
          "model_module": "@jupyter-widgets/base",
          "model_name": "LayoutModel",
          "state": {
            "_view_name": "LayoutView",
            "grid_template_rows": null,
            "right": null,
            "justify_content": null,
            "_view_module": "@jupyter-widgets/base",
            "overflow": null,
            "_model_module_version": "1.2.0",
            "_view_count": null,
            "flex_flow": null,
            "width": null,
            "min_width": null,
            "border": null,
            "align_items": null,
            "bottom": null,
            "_model_module": "@jupyter-widgets/base",
            "top": null,
            "grid_column": null,
            "overflow_y": null,
            "overflow_x": null,
            "grid_auto_flow": null,
            "grid_area": null,
            "grid_template_columns": null,
            "flex": null,
            "_model_name": "LayoutModel",
            "justify_items": null,
            "grid_row": null,
            "max_height": null,
            "align_content": null,
            "visibility": null,
            "align_self": null,
            "height": null,
            "min_height": null,
            "padding": null,
            "grid_auto_rows": null,
            "grid_gap": null,
            "max_width": null,
            "order": null,
            "_view_module_version": "1.2.0",
            "grid_template_areas": null,
            "object_position": null,
            "object_fit": null,
            "grid_auto_columns": null,
            "margin": null,
            "display": null,
            "left": null
          }
        },
        "e91f5fda3d7e4690bb6ef6cc01710121": {
          "model_module": "@jupyter-widgets/controls",
          "model_name": "FloatProgressModel",
          "state": {
            "_view_name": "ProgressView",
            "style": "IPY_MODEL_61b284163dbf4a10992c62841e232986",
            "_dom_classes": [],
            "description": "Downloading: 100%",
            "_model_name": "FloatProgressModel",
            "bar_style": "success",
            "max": 433,
            "_view_module": "@jupyter-widgets/controls",
            "_model_module_version": "1.5.0",
            "value": 433,
            "_view_count": null,
            "_view_module_version": "1.5.0",
            "orientation": "horizontal",
            "min": 0,
            "description_tooltip": null,
            "_model_module": "@jupyter-widgets/controls",
            "layout": "IPY_MODEL_ec86fff38b96420898ebabc584bcda26"
          }
        },
        "223fd41510284fd581f71c67950ce8a9": {
          "model_module": "@jupyter-widgets/controls",
          "model_name": "HTMLModel",
          "state": {
            "_view_name": "HTMLView",
            "style": "IPY_MODEL_8f6bc695e3164ef0ba007dd6827b01e2",
            "_dom_classes": [],
            "description": "",
            "_model_name": "HTMLModel",
            "placeholder": "​",
            "_view_module": "@jupyter-widgets/controls",
            "_model_module_version": "1.5.0",
            "value": " 433/433 [01:38&lt;00:00, 4.41B/s]",
            "_view_count": null,
            "_view_module_version": "1.5.0",
            "description_tooltip": null,
            "_model_module": "@jupyter-widgets/controls",
            "layout": "IPY_MODEL_826654158a234c6c9695668b77c2495f"
          }
        },
        "61b284163dbf4a10992c62841e232986": {
          "model_module": "@jupyter-widgets/controls",
          "model_name": "ProgressStyleModel",
          "state": {
            "_view_name": "StyleView",
            "_model_name": "ProgressStyleModel",
            "description_width": "initial",
            "_view_module": "@jupyter-widgets/base",
            "_model_module_version": "1.5.0",
            "_view_count": null,
            "_view_module_version": "1.2.0",
            "bar_color": null,
            "_model_module": "@jupyter-widgets/controls"
          }
        },
        "ec86fff38b96420898ebabc584bcda26": {
          "model_module": "@jupyter-widgets/base",
          "model_name": "LayoutModel",
          "state": {
            "_view_name": "LayoutView",
            "grid_template_rows": null,
            "right": null,
            "justify_content": null,
            "_view_module": "@jupyter-widgets/base",
            "overflow": null,
            "_model_module_version": "1.2.0",
            "_view_count": null,
            "flex_flow": null,
            "width": null,
            "min_width": null,
            "border": null,
            "align_items": null,
            "bottom": null,
            "_model_module": "@jupyter-widgets/base",
            "top": null,
            "grid_column": null,
            "overflow_y": null,
            "overflow_x": null,
            "grid_auto_flow": null,
            "grid_area": null,
            "grid_template_columns": null,
            "flex": null,
            "_model_name": "LayoutModel",
            "justify_items": null,
            "grid_row": null,
            "max_height": null,
            "align_content": null,
            "visibility": null,
            "align_self": null,
            "height": null,
            "min_height": null,
            "padding": null,
            "grid_auto_rows": null,
            "grid_gap": null,
            "max_width": null,
            "order": null,
            "_view_module_version": "1.2.0",
            "grid_template_areas": null,
            "object_position": null,
            "object_fit": null,
            "grid_auto_columns": null,
            "margin": null,
            "display": null,
            "left": null
          }
        },
        "8f6bc695e3164ef0ba007dd6827b01e2": {
          "model_module": "@jupyter-widgets/controls",
          "model_name": "DescriptionStyleModel",
          "state": {
            "_view_name": "StyleView",
            "_model_name": "DescriptionStyleModel",
            "description_width": "",
            "_view_module": "@jupyter-widgets/base",
            "_model_module_version": "1.5.0",
            "_view_count": null,
            "_view_module_version": "1.2.0",
            "_model_module": "@jupyter-widgets/controls"
          }
        },
        "826654158a234c6c9695668b77c2495f": {
          "model_module": "@jupyter-widgets/base",
          "model_name": "LayoutModel",
          "state": {
            "_view_name": "LayoutView",
            "grid_template_rows": null,
            "right": null,
            "justify_content": null,
            "_view_module": "@jupyter-widgets/base",
            "overflow": null,
            "_model_module_version": "1.2.0",
            "_view_count": null,
            "flex_flow": null,
            "width": null,
            "min_width": null,
            "border": null,
            "align_items": null,
            "bottom": null,
            "_model_module": "@jupyter-widgets/base",
            "top": null,
            "grid_column": null,
            "overflow_y": null,
            "overflow_x": null,
            "grid_auto_flow": null,
            "grid_area": null,
            "grid_template_columns": null,
            "flex": null,
            "_model_name": "LayoutModel",
            "justify_items": null,
            "grid_row": null,
            "max_height": null,
            "align_content": null,
            "visibility": null,
            "align_self": null,
            "height": null,
            "min_height": null,
            "padding": null,
            "grid_auto_rows": null,
            "grid_gap": null,
            "max_width": null,
            "order": null,
            "_view_module_version": "1.2.0",
            "grid_template_areas": null,
            "object_position": null,
            "object_fit": null,
            "grid_auto_columns": null,
            "margin": null,
            "display": null,
            "left": null
          }
        },
        "2be6c85f4a59449684ce8a1dc67f2e43": {
          "model_module": "@jupyter-widgets/controls",
          "model_name": "HBoxModel",
          "state": {
            "_view_name": "HBoxView",
            "_dom_classes": [],
            "_model_name": "HBoxModel",
            "_view_module": "@jupyter-widgets/controls",
            "_model_module_version": "1.5.0",
            "_view_count": null,
            "_view_module_version": "1.5.0",
            "box_style": "",
            "layout": "IPY_MODEL_4162c05fd8ab4efbbb6822947d10e6f0",
            "_model_module": "@jupyter-widgets/controls",
            "children": [
              "IPY_MODEL_fe022be89f7a4434a496548e29cf2a73",
              "IPY_MODEL_577b9aacbf0946cebf78461a5ca26227"
            ]
          }
        },
        "4162c05fd8ab4efbbb6822947d10e6f0": {
          "model_module": "@jupyter-widgets/base",
          "model_name": "LayoutModel",
          "state": {
            "_view_name": "LayoutView",
            "grid_template_rows": null,
            "right": null,
            "justify_content": null,
            "_view_module": "@jupyter-widgets/base",
            "overflow": null,
            "_model_module_version": "1.2.0",
            "_view_count": null,
            "flex_flow": null,
            "width": null,
            "min_width": null,
            "border": null,
            "align_items": null,
            "bottom": null,
            "_model_module": "@jupyter-widgets/base",
            "top": null,
            "grid_column": null,
            "overflow_y": null,
            "overflow_x": null,
            "grid_auto_flow": null,
            "grid_area": null,
            "grid_template_columns": null,
            "flex": null,
            "_model_name": "LayoutModel",
            "justify_items": null,
            "grid_row": null,
            "max_height": null,
            "align_content": null,
            "visibility": null,
            "align_self": null,
            "height": null,
            "min_height": null,
            "padding": null,
            "grid_auto_rows": null,
            "grid_gap": null,
            "max_width": null,
            "order": null,
            "_view_module_version": "1.2.0",
            "grid_template_areas": null,
            "object_position": null,
            "object_fit": null,
            "grid_auto_columns": null,
            "margin": null,
            "display": null,
            "left": null
          }
        },
        "fe022be89f7a4434a496548e29cf2a73": {
          "model_module": "@jupyter-widgets/controls",
          "model_name": "FloatProgressModel",
          "state": {
            "_view_name": "ProgressView",
            "style": "IPY_MODEL_6dafc70718304f509e187c3ba61efd08",
            "_dom_classes": [],
            "description": "Downloading: 100%",
            "_model_name": "FloatProgressModel",
            "bar_style": "success",
            "max": 440473133,
            "_view_module": "@jupyter-widgets/controls",
            "_model_module_version": "1.5.0",
            "value": 440473133,
            "_view_count": null,
            "_view_module_version": "1.5.0",
            "orientation": "horizontal",
            "min": 0,
            "description_tooltip": null,
            "_model_module": "@jupyter-widgets/controls",
            "layout": "IPY_MODEL_240d0e0a2bc143c58a287597f5d01331"
          }
        },
        "577b9aacbf0946cebf78461a5ca26227": {
          "model_module": "@jupyter-widgets/controls",
          "model_name": "HTMLModel",
          "state": {
            "_view_name": "HTMLView",
            "style": "IPY_MODEL_1b464f5545d74807893ca6e5b0706541",
            "_dom_classes": [],
            "description": "",
            "_model_name": "HTMLModel",
            "placeholder": "​",
            "_view_module": "@jupyter-widgets/controls",
            "_model_module_version": "1.5.0",
            "value": " 440M/440M [00:35&lt;00:00, 12.5MB/s]",
            "_view_count": null,
            "_view_module_version": "1.5.0",
            "description_tooltip": null,
            "_model_module": "@jupyter-widgets/controls",
            "layout": "IPY_MODEL_dcdf2df4d8b04290a62ebd4495b2558d"
          }
        },
        "6dafc70718304f509e187c3ba61efd08": {
          "model_module": "@jupyter-widgets/controls",
          "model_name": "ProgressStyleModel",
          "state": {
            "_view_name": "StyleView",
            "_model_name": "ProgressStyleModel",
            "description_width": "initial",
            "_view_module": "@jupyter-widgets/base",
            "_model_module_version": "1.5.0",
            "_view_count": null,
            "_view_module_version": "1.2.0",
            "bar_color": null,
            "_model_module": "@jupyter-widgets/controls"
          }
        },
        "240d0e0a2bc143c58a287597f5d01331": {
          "model_module": "@jupyter-widgets/base",
          "model_name": "LayoutModel",
          "state": {
            "_view_name": "LayoutView",
            "grid_template_rows": null,
            "right": null,
            "justify_content": null,
            "_view_module": "@jupyter-widgets/base",
            "overflow": null,
            "_model_module_version": "1.2.0",
            "_view_count": null,
            "flex_flow": null,
            "width": null,
            "min_width": null,
            "border": null,
            "align_items": null,
            "bottom": null,
            "_model_module": "@jupyter-widgets/base",
            "top": null,
            "grid_column": null,
            "overflow_y": null,
            "overflow_x": null,
            "grid_auto_flow": null,
            "grid_area": null,
            "grid_template_columns": null,
            "flex": null,
            "_model_name": "LayoutModel",
            "justify_items": null,
            "grid_row": null,
            "max_height": null,
            "align_content": null,
            "visibility": null,
            "align_self": null,
            "height": null,
            "min_height": null,
            "padding": null,
            "grid_auto_rows": null,
            "grid_gap": null,
            "max_width": null,
            "order": null,
            "_view_module_version": "1.2.0",
            "grid_template_areas": null,
            "object_position": null,
            "object_fit": null,
            "grid_auto_columns": null,
            "margin": null,
            "display": null,
            "left": null
          }
        },
        "1b464f5545d74807893ca6e5b0706541": {
          "model_module": "@jupyter-widgets/controls",
          "model_name": "DescriptionStyleModel",
          "state": {
            "_view_name": "StyleView",
            "_model_name": "DescriptionStyleModel",
            "description_width": "",
            "_view_module": "@jupyter-widgets/base",
            "_model_module_version": "1.5.0",
            "_view_count": null,
            "_view_module_version": "1.2.0",
            "_model_module": "@jupyter-widgets/controls"
          }
        },
        "dcdf2df4d8b04290a62ebd4495b2558d": {
          "model_module": "@jupyter-widgets/base",
          "model_name": "LayoutModel",
          "state": {
            "_view_name": "LayoutView",
            "grid_template_rows": null,
            "right": null,
            "justify_content": null,
            "_view_module": "@jupyter-widgets/base",
            "overflow": null,
            "_model_module_version": "1.2.0",
            "_view_count": null,
            "flex_flow": null,
            "width": null,
            "min_width": null,
            "border": null,
            "align_items": null,
            "bottom": null,
            "_model_module": "@jupyter-widgets/base",
            "top": null,
            "grid_column": null,
            "overflow_y": null,
            "overflow_x": null,
            "grid_auto_flow": null,
            "grid_area": null,
            "grid_template_columns": null,
            "flex": null,
            "_model_name": "LayoutModel",
            "justify_items": null,
            "grid_row": null,
            "max_height": null,
            "align_content": null,
            "visibility": null,
            "align_self": null,
            "height": null,
            "min_height": null,
            "padding": null,
            "grid_auto_rows": null,
            "grid_gap": null,
            "max_width": null,
            "order": null,
            "_view_module_version": "1.2.0",
            "grid_template_areas": null,
            "object_position": null,
            "object_fit": null,
            "grid_auto_columns": null,
            "margin": null,
            "display": null,
            "left": null
          }
        }
      }
    }
  },
  "cells": [
    {
      "cell_type": "markdown",
      "metadata": {
        "id": "view-in-github",
        "colab_type": "text"
      },
      "source": [
        "<a href=\"https://colab.research.google.com/github/sumanthd17/aspect-based-sentiment/blob/master/train.ipynb\" target=\"_parent\"><img src=\"https://colab.research.google.com/assets/colab-badge.svg\" alt=\"Open In Colab\"/></a>"
      ]
    },
    {
      "cell_type": "code",
      "metadata": {
        "id": "izN65hXWQD77",
        "colab_type": "code",
        "colab": {
          "base_uri": "https://localhost:8080/",
          "height": 258
        },
        "outputId": "b36a9831-774f-4609-80e7-7600399007ae"
      },
      "source": [
        "!ln -sf /opt/bin/nvidia-smi /usr/bin/nvidia-smi\n",
        "!pip install gputil\n",
        "!pip install psutil\n",
        "!pip install humanize\n",
        "import psutil\n",
        "import humanize\n",
        "import os\n",
        "import GPUtil as GPU\n",
        "GPUs = GPU.getGPUs()\n",
        "# XXX: only one GPU on Colab and isn’t guaranteed\n",
        "gpu = GPUs[0]\n",
        "def printm():\n",
        " process = psutil.Process(os.getpid())\n",
        " print(\"Gen RAM Free: \" + humanize.naturalsize( psutil.virtual_memory().available ), \" | Proc size: \" + humanize.naturalsize( process.memory_info().rss))\n",
        " print(\"GPU RAM Free: {0:.0f}MB | Used: {1:.0f}MB | Util {2:3.0f}% | Total {3:.0f}MB\".format(gpu.memoryFree, gpu.memoryUsed, gpu.memoryUtil*100, gpu.memoryTotal))\n",
        "printm()"
      ],
      "execution_count": 1,
      "outputs": [
        {
          "output_type": "stream",
          "text": [
            "Collecting gputil\n",
            "  Downloading https://files.pythonhosted.org/packages/ed/0e/5c61eedde9f6c87713e89d794f01e378cfd9565847d4576fa627d758c554/GPUtil-1.4.0.tar.gz\n",
            "Building wheels for collected packages: gputil\n",
            "  Building wheel for gputil (setup.py) ... \u001b[?25l\u001b[?25hdone\n",
            "  Created wheel for gputil: filename=GPUtil-1.4.0-cp36-none-any.whl size=7413 sha256=e16cdfb057d725865d4384c5f5a63a55284969b4d514328ca2ac53d47229f058\n",
            "  Stored in directory: /root/.cache/pip/wheels/3d/77/07/80562de4bb0786e5ea186911a2c831fdd0018bda69beab71fd\n",
            "Successfully built gputil\n",
            "Installing collected packages: gputil\n",
            "Successfully installed gputil-1.4.0\n",
            "Requirement already satisfied: psutil in /usr/local/lib/python3.6/dist-packages (5.4.8)\n",
            "Requirement already satisfied: humanize in /usr/local/lib/python3.6/dist-packages (0.5.1)\n",
            "Gen RAM Free: 12.8 GB  | Proc size: 160.4 MB\n",
            "GPU RAM Free: 11441MB | Used: 0MB | Util   0% | Total 11441MB\n"
          ],
          "name": "stdout"
        }
      ]
    },
    {
      "cell_type": "code",
      "metadata": {
        "id": "32dC4ovO-Hn6",
        "colab_type": "code",
        "colab": {
          "base_uri": "https://localhost:8080/",
          "height": 615
        },
        "outputId": "9979da31-fc4f-406c-c376-75891b5b3788"
      },
      "source": [
        "!pip install transformers"
      ],
      "execution_count": 2,
      "outputs": [
        {
          "output_type": "stream",
          "text": [
            "Collecting transformers\n",
            "\u001b[?25l  Downloading https://files.pythonhosted.org/packages/27/3c/91ed8f5c4e7ef3227b4119200fc0ed4b4fd965b1f0172021c25701087825/transformers-3.0.2-py3-none-any.whl (769kB)\n",
            "\u001b[K     |████████████████████████████████| 778kB 2.8MB/s \n",
            "\u001b[?25hCollecting sentencepiece!=0.1.92\n",
            "\u001b[?25l  Downloading https://files.pythonhosted.org/packages/d4/a4/d0a884c4300004a78cca907a6ff9a5e9fe4f090f5d95ab341c53d28cbc58/sentencepiece-0.1.91-cp36-cp36m-manylinux1_x86_64.whl (1.1MB)\n",
            "\u001b[K     |████████████████████████████████| 1.1MB 13.3MB/s \n",
            "\u001b[?25hRequirement already satisfied: regex!=2019.12.17 in /usr/local/lib/python3.6/dist-packages (from transformers) (2019.12.20)\n",
            "Collecting sacremoses\n",
            "\u001b[?25l  Downloading https://files.pythonhosted.org/packages/7d/34/09d19aff26edcc8eb2a01bed8e98f13a1537005d31e95233fd48216eed10/sacremoses-0.0.43.tar.gz (883kB)\n",
            "\u001b[K     |████████████████████████████████| 890kB 13.8MB/s \n",
            "\u001b[?25hRequirement already satisfied: filelock in /usr/local/lib/python3.6/dist-packages (from transformers) (3.0.12)\n",
            "Collecting tokenizers==0.8.1.rc1\n",
            "\u001b[?25l  Downloading https://files.pythonhosted.org/packages/40/d0/30d5f8d221a0ed981a186c8eb986ce1c94e3a6e87f994eae9f4aa5250217/tokenizers-0.8.1rc1-cp36-cp36m-manylinux1_x86_64.whl (3.0MB)\n",
            "\u001b[K     |████████████████████████████████| 3.0MB 23.8MB/s \n",
            "\u001b[?25hRequirement already satisfied: numpy in /usr/local/lib/python3.6/dist-packages (from transformers) (1.18.5)\n",
            "Requirement already satisfied: dataclasses; python_version < \"3.7\" in /usr/local/lib/python3.6/dist-packages (from transformers) (0.7)\n",
            "Requirement already satisfied: tqdm>=4.27 in /usr/local/lib/python3.6/dist-packages (from transformers) (4.41.1)\n",
            "Requirement already satisfied: requests in /usr/local/lib/python3.6/dist-packages (from transformers) (2.23.0)\n",
            "Requirement already satisfied: packaging in /usr/local/lib/python3.6/dist-packages (from transformers) (20.4)\n",
            "Requirement already satisfied: six in /usr/local/lib/python3.6/dist-packages (from sacremoses->transformers) (1.15.0)\n",
            "Requirement already satisfied: click in /usr/local/lib/python3.6/dist-packages (from sacremoses->transformers) (7.1.2)\n",
            "Requirement already satisfied: joblib in /usr/local/lib/python3.6/dist-packages (from sacremoses->transformers) (0.16.0)\n",
            "Requirement already satisfied: chardet<4,>=3.0.2 in /usr/local/lib/python3.6/dist-packages (from requests->transformers) (3.0.4)\n",
            "Requirement already satisfied: idna<3,>=2.5 in /usr/local/lib/python3.6/dist-packages (from requests->transformers) (2.10)\n",
            "Requirement already satisfied: urllib3!=1.25.0,!=1.25.1,<1.26,>=1.21.1 in /usr/local/lib/python3.6/dist-packages (from requests->transformers) (1.24.3)\n",
            "Requirement already satisfied: certifi>=2017.4.17 in /usr/local/lib/python3.6/dist-packages (from requests->transformers) (2020.6.20)\n",
            "Requirement already satisfied: pyparsing>=2.0.2 in /usr/local/lib/python3.6/dist-packages (from packaging->transformers) (2.4.7)\n",
            "Building wheels for collected packages: sacremoses\n",
            "  Building wheel for sacremoses (setup.py) ... \u001b[?25l\u001b[?25hdone\n",
            "  Created wheel for sacremoses: filename=sacremoses-0.0.43-cp36-none-any.whl size=893260 sha256=ef5e53386676d1419cac7cf0e6ec96f9a618db29689fe0f6180afb25f35b8d6b\n",
            "  Stored in directory: /root/.cache/pip/wheels/29/3c/fd/7ce5c3f0666dab31a50123635e6fb5e19ceb42ce38d4e58f45\n",
            "Successfully built sacremoses\n",
            "Installing collected packages: sentencepiece, sacremoses, tokenizers, transformers\n",
            "Successfully installed sacremoses-0.0.43 sentencepiece-0.1.91 tokenizers-0.8.1rc1 transformers-3.0.2\n"
          ],
          "name": "stdout"
        }
      ]
    },
    {
      "cell_type": "code",
      "metadata": {
        "id": "MeKHfOoA95ky",
        "colab_type": "code",
        "colab": {
          "base_uri": "https://localhost:8080/",
          "height": 68
        },
        "outputId": "91eb5541-a7cb-4c26-f910-57da4ba40183"
      },
      "source": [
        "import pandas as pd\n",
        "from tqdm import tqdm\n",
        "\n",
        "import torch\n",
        "import transformers as optimus\n",
        "\n",
        "import nltk\n",
        "nltk.download('punkt')"
      ],
      "execution_count": 3,
      "outputs": [
        {
          "output_type": "stream",
          "text": [
            "[nltk_data] Downloading package punkt to /root/nltk_data...\n",
            "[nltk_data]   Unzipping tokenizers/punkt.zip.\n"
          ],
          "name": "stdout"
        },
        {
          "output_type": "execute_result",
          "data": {
            "text/plain": [
              "True"
            ]
          },
          "metadata": {
            "tags": []
          },
          "execution_count": 3
        }
      ]
    },
    {
      "cell_type": "code",
      "metadata": {
        "id": "jlVxGZoLY05g",
        "colab_type": "code",
        "colab": {
          "base_uri": "https://localhost:8080/",
          "height": 119
        },
        "outputId": "b7c87380-23e9-431a-d0b0-ab9a7aae951d"
      },
      "source": [
        "!git clone https://github.com/sumanthd17/aspect-based-sentiment.git"
      ],
      "execution_count": 4,
      "outputs": [
        {
          "output_type": "stream",
          "text": [
            "Cloning into 'aspect-based-sentiment'...\n",
            "remote: Enumerating objects: 22, done.\u001b[K\n",
            "remote: Counting objects:   4% (1/22)\u001b[K\rremote: Counting objects:   9% (2/22)\u001b[K\rremote: Counting objects:  13% (3/22)\u001b[K\rremote: Counting objects:  18% (4/22)\u001b[K\rremote: Counting objects:  22% (5/22)\u001b[K\rremote: Counting objects:  27% (6/22)\u001b[K\rremote: Counting objects:  31% (7/22)\u001b[K\rremote: Counting objects:  36% (8/22)\u001b[K\rremote: Counting objects:  40% (9/22)\u001b[K\rremote: Counting objects:  45% (10/22)\u001b[K\rremote: Counting objects:  50% (11/22)\u001b[K\rremote: Counting objects:  54% (12/22)\u001b[K\rremote: Counting objects:  59% (13/22)\u001b[K\rremote: Counting objects:  63% (14/22)\u001b[K\rremote: Counting objects:  68% (15/22)\u001b[K\rremote: Counting objects:  72% (16/22)\u001b[K\rremote: Counting objects:  77% (17/22)\u001b[K\rremote: Counting objects:  81% (18/22)\u001b[K\rremote: Counting objects:  86% (19/22)\u001b[K\rremote: Counting objects:  90% (20/22)\u001b[K\rremote: Counting objects:  95% (21/22)\u001b[K\rremote: Counting objects: 100% (22/22)\u001b[K\rremote: Counting objects: 100% (22/22), done.\u001b[K\n",
            "remote: Compressing objects:   5% (1/18)\u001b[K\rremote: Compressing objects:  11% (2/18)\u001b[K\rremote: Compressing objects:  16% (3/18)\u001b[K\rremote: Compressing objects:  22% (4/18)\u001b[K\rremote: Compressing objects:  27% (5/18)\u001b[K\rremote: Compressing objects:  33% (6/18)\u001b[K\rremote: Compressing objects:  38% (7/18)\u001b[K\rremote: Compressing objects:  44% (8/18)\u001b[K\rremote: Compressing objects:  50% (9/18)\u001b[K\rremote: Compressing objects:  55% (10/18)\u001b[K\rremote: Compressing objects:  61% (11/18)\u001b[K\rremote: Compressing objects:  66% (12/18)\u001b[K\rremote: Compressing objects:  72% (13/18)\u001b[K\rremote: Compressing objects:  77% (14/18)\u001b[K\rremote: Compressing objects:  83% (15/18)\u001b[K\rremote: Compressing objects:  88% (16/18)\u001b[K\rremote: Compressing objects:  94% (17/18)\u001b[K\rremote: Compressing objects: 100% (18/18)\u001b[K\rremote: Compressing objects: 100% (18/18), done.\u001b[K\n",
            "Unpacking objects:   4% (1/22)   \rUnpacking objects:   9% (2/22)   \rUnpacking objects:  13% (3/22)   \rUnpacking objects:  18% (4/22)   \rUnpacking objects:  22% (5/22)   \rUnpacking objects:  27% (6/22)   \rUnpacking objects:  31% (7/22)   \rUnpacking objects:  36% (8/22)   \rUnpacking objects:  40% (9/22)   \rUnpacking objects:  45% (10/22)   \rUnpacking objects:  50% (11/22)   \rUnpacking objects:  54% (12/22)   \rUnpacking objects:  59% (13/22)   \rUnpacking objects:  63% (14/22)   \rUnpacking objects:  68% (15/22)   \rUnpacking objects:  72% (16/22)   \rUnpacking objects:  77% (17/22)   \rUnpacking objects:  81% (18/22)   \rUnpacking objects:  86% (19/22)   \rremote: Total 22 (delta 5), reused 17 (delta 3), pack-reused 0\u001b[K\n",
            "Unpacking objects:  90% (20/22)   \rUnpacking objects:  95% (21/22)   \rUnpacking objects: 100% (22/22)   \rUnpacking objects: 100% (22/22), done.\n"
          ],
          "name": "stdout"
        }
      ]
    },
    {
      "cell_type": "code",
      "metadata": {
        "id": "Yj-Nni9QY-1Z",
        "colab_type": "code",
        "colab": {
          "base_uri": "https://localhost:8080/",
          "height": 34
        },
        "outputId": "fbba8fd4-d0b6-4605-ad7d-69e69207659a"
      },
      "source": [
        "cd aspect-based-sentiment"
      ],
      "execution_count": 5,
      "outputs": [
        {
          "output_type": "stream",
          "text": [
            "/content/aspect-based-sentiment\n"
          ],
          "name": "stdout"
        }
      ]
    },
    {
      "cell_type": "code",
      "metadata": {
        "id": "C5GP5AnZ-O2A",
        "colab_type": "code",
        "colab": {}
      },
      "source": [
        "def load_train_data(input_dir):\n",
        "    df = pd.read_csv(input_dir + \"train-QA.csv\", sep=\"\\t\", names=['id', 'ques', 'ans', 'sentiment'])\n",
        "    return df"
      ],
      "execution_count": 6,
      "outputs": []
    },
    {
      "cell_type": "code",
      "metadata": {
        "id": "t9q16QCR-nFg",
        "colab_type": "code",
        "colab": {}
      },
      "source": [
        "def hyper_params():\n",
        "    BATCH_SIZE = 32\n",
        "    MAX_SEQ_LENGTH = 128\n",
        "    LEARNING_RATE = 2e-5\n",
        "    EPOCHS = 5\n",
        "    return BATCH_SIZE, MAX_SEQ_LENGTH, LEARNING_RATE, EPOCHS"
      ],
      "execution_count": 7,
      "outputs": []
    },
    {
      "cell_type": "code",
      "metadata": {
        "id": "9h81rysT9-lP",
        "colab_type": "code",
        "colab": {}
      },
      "source": [
        "device = torch.device(\"cuda\" if torch.cuda.is_available() else \"cpu\")"
      ],
      "execution_count": 8,
      "outputs": []
    },
    {
      "cell_type": "code",
      "metadata": {
        "id": "mhRCLmNdYaG9",
        "colab_type": "code",
        "colab": {
          "base_uri": "https://localhost:8080/",
          "height": 88
        },
        "outputId": "09435d42-5bbd-4822-df9b-2b65f990de4e"
      },
      "source": [
        "!python create_data.py"
      ],
      "execution_count": 9,
      "outputs": [
        {
          "output_type": "stream",
          "text": [
            "2977\n",
            "(1430, ['LOCATION1', 'is', 'transforming', 'and', 'the', 'prices', 'will', 'go', 'up', 'and', 'up'], 'LOCATION1', 'price', 'Negative')\n",
            "45025\n"
          ],
          "name": "stdout"
        }
      ]
    },
    {
      "cell_type": "code",
      "metadata": {
        "id": "RaWgHf8OY7-y",
        "colab_type": "code",
        "colab": {
          "base_uri": "https://localhost:8080/",
          "height": 34
        },
        "outputId": "993e5665-a4d5-42d6-be7b-ef688b27187b"
      },
      "source": [
        "train_data = load_train_data('QA_pairs/')\n",
        "\n",
        "batch_size, max_seq_len, lr, epochs = hyper_params()\n",
        "num_training_steps = int(len(train_data) / batch_size)\n",
        "print(len(train_data))"
      ],
      "execution_count": 10,
      "outputs": [
        {
          "output_type": "stream",
          "text": [
            "45025\n"
          ],
          "name": "stdout"
        }
      ]
    },
    {
      "cell_type": "code",
      "metadata": {
        "id": "f8Eu74yg49Tb",
        "colab_type": "code",
        "colab": {
          "base_uri": "https://localhost:8080/",
          "height": 66,
          "referenced_widgets": [
            "95826926871645ebb0f5cdf29c5d292a",
            "f4e90c8017fc48f190b390ac414ed8bf",
            "89adb7ae66694891b793ddde1a186d9d",
            "246ee9e2f2a2496eb07beaa77199f63a",
            "7638f6c681064e1887987e038abe4053",
            "c8c654c2353c48c887d6cdbdcde3b314",
            "d3ff1a73c2b5470baf87515c3f5f4a25",
            "7272077c3984479c9127a1fc928a2941"
          ]
        },
        "outputId": "24675248-377d-4ffd-ab03-ae58f02d87d4"
      },
      "source": [
        "tokenizer_class, pretrained_weights = (\n",
        "    optimus.BertTokenizer,\n",
        "    \"bert-base-uncased\",\n",
        ")\n",
        "\n",
        "tokenizer = tokenizer_class.from_pretrained(pretrained_weights)"
      ],
      "execution_count": 11,
      "outputs": [
        {
          "output_type": "display_data",
          "data": {
            "application/vnd.jupyter.widget-view+json": {
              "model_id": "95826926871645ebb0f5cdf29c5d292a",
              "version_minor": 0,
              "version_major": 2
            },
            "text/plain": [
              "HBox(children=(FloatProgress(value=0.0, description='Downloading', max=231508.0, style=ProgressStyle(descripti…"
            ]
          },
          "metadata": {
            "tags": []
          }
        },
        {
          "output_type": "stream",
          "text": [
            "\n"
          ],
          "name": "stdout"
        }
      ]
    },
    {
      "cell_type": "code",
      "metadata": {
        "id": "_GyF1y7r_Eps",
        "colab_type": "code",
        "colab": {}
      },
      "source": [
        "train_sample = train_data[:10000]"
      ],
      "execution_count": 12,
      "outputs": []
    },
    {
      "cell_type": "code",
      "metadata": {
        "id": "skO5kvazcgmJ",
        "colab_type": "code",
        "colab": {}
      },
      "source": [
        "tokenized = pd.DataFrame()"
      ],
      "execution_count": 13,
      "outputs": []
    },
    {
      "cell_type": "code",
      "metadata": {
        "id": "0_jgOd7Q-hh1",
        "colab_type": "code",
        "colab": {}
      },
      "source": [
        "question_tokens = train_sample['ques'].apply(lambda x: tokenizer.encode(x, add_special_tokens=True))\n",
        "q_segment_tokens = question_tokens.apply(lambda x: [0]*len(x))"
      ],
      "execution_count": 14,
      "outputs": []
    },
    {
      "cell_type": "code",
      "metadata": {
        "id": "YNEqWkBlhEKx",
        "colab_type": "code",
        "colab": {}
      },
      "source": [
        "answer_tokens = train_sample['ans'].apply(lambda x: tokenizer.encode(x, add_special_tokens=True))\n",
        "answer_tokens = answer_tokens.apply(lambda x: [i for i in x if i != 101])\n",
        "a_segment_tokens = answer_tokens.apply(lambda x: [1]*len(x))"
      ],
      "execution_count": 15,
      "outputs": []
    },
    {
      "cell_type": "code",
      "metadata": {
        "id": "Tc1qlCB6ieXI",
        "colab_type": "code",
        "colab": {}
      },
      "source": [
        "tokenized['input_ids'] = question_tokens + answer_tokens"
      ],
      "execution_count": 16,
      "outputs": []
    },
    {
      "cell_type": "code",
      "metadata": {
        "id": "nFdLUUX4ikYn",
        "colab_type": "code",
        "colab": {}
      },
      "source": [
        "tokenized['segment_ids'] = q_segment_tokens + a_segment_tokens"
      ],
      "execution_count": 17,
      "outputs": []
    },
    {
      "cell_type": "code",
      "metadata": {
        "id": "16DkvxEXc3p5",
        "colab_type": "code",
        "colab": {}
      },
      "source": [
        "tokenized['input_mask'] = ''\n",
        "for i, row in tokenized.iterrows():\n",
        "  tokenized.iloc[i]['input_mask'] = [1]*len(tokenized.iloc[i]['input_ids'])"
      ],
      "execution_count": 18,
      "outputs": []
    },
    {
      "cell_type": "code",
      "metadata": {
        "id": "BEl0HyrvMLcF",
        "colab_type": "code",
        "colab": {}
      },
      "source": [
        "tokenized['input_mask'] = tokenized['input_mask'].apply(lambda x: x + (max_seq_len - len(x))*[0])"
      ],
      "execution_count": 19,
      "outputs": []
    },
    {
      "cell_type": "code",
      "metadata": {
        "id": "KgMdDjKvk9PO",
        "colab_type": "code",
        "colab": {}
      },
      "source": [
        "tokenized['input_ids'] = tokenized['input_ids'].apply(lambda x: x + (max_seq_len - len(x))*[0])"
      ],
      "execution_count": 20,
      "outputs": []
    },
    {
      "cell_type": "code",
      "metadata": {
        "id": "oYpMm60ZkG9N",
        "colab_type": "code",
        "colab": {}
      },
      "source": [
        "tokenized['segment_ids'] = tokenized['segment_ids'].apply(lambda x: x + (max_seq_len - len(x))*[0])"
      ],
      "execution_count": 21,
      "outputs": []
    },
    {
      "cell_type": "code",
      "metadata": {
        "id": "MP7eQSordqBZ",
        "colab_type": "code",
        "colab": {}
      },
      "source": [
        "sent2idx = {\n",
        "    'None': 0,\n",
        "    'Positive': 1,\n",
        "    'Negative': 2\n",
        "}"
      ],
      "execution_count": 22,
      "outputs": []
    },
    {
      "cell_type": "code",
      "metadata": {
        "id": "jVnblG7Lcb1S",
        "colab_type": "code",
        "colab": {}
      },
      "source": [
        "tokenized['label'] = ''\n",
        "tokenized['label'] = train_sample['sentiment'].apply(lambda x: sent2idx[x])"
      ],
      "execution_count": 23,
      "outputs": []
    },
    {
      "cell_type": "code",
      "metadata": {
        "id": "TqZN62v6eUEe",
        "colab_type": "code",
        "colab": {
          "base_uri": "https://localhost:8080/",
          "height": 85
        },
        "outputId": "cc54a40f-71c8-45fe-d4af-67b3c60a922d"
      },
      "source": [
        "train_data['sentiment'].value_counts()"
      ],
      "execution_count": 24,
      "outputs": [
        {
          "output_type": "execute_result",
          "data": {
            "text/plain": [
              "None        41629\n",
              "Positive     2475\n",
              "Negative      921\n",
              "Name: sentiment, dtype: int64"
            ]
          },
          "metadata": {
            "tags": []
          },
          "execution_count": 24
        }
      ]
    },
    {
      "cell_type": "code",
      "metadata": {
        "id": "DwyK7r-Og5n7",
        "colab_type": "code",
        "colab": {}
      },
      "source": [
        "from torch.utils.data import DataLoader, TensorDataset\n",
        "from torch.utils.data.sampler import RandomSampler"
      ],
      "execution_count": 25,
      "outputs": []
    },
    {
      "cell_type": "code",
      "metadata": {
        "id": "ouBDlK6ijqb_",
        "colab_type": "code",
        "colab": {}
      },
      "source": [
        "input_ids = torch.tensor([r for r in tokenized['input_ids']], dtype=torch.long)\n",
        "input_masks = torch.tensor([r for r in tokenized['input_mask']], dtype=torch.long)\n",
        "label_ids = torch.tensor([r for r in tokenized['label']], dtype=torch.long)\n",
        "segment_ids = torch.tensor([r for r in tokenized['segment_ids']], dtype=torch.long)"
      ],
      "execution_count": 26,
      "outputs": []
    },
    {
      "cell_type": "code",
      "metadata": {
        "id": "wYCJ4fv8j9Vr",
        "colab_type": "code",
        "colab": {}
      },
      "source": [
        "train_dataset = TensorDataset(input_ids, input_masks, segment_ids, label_ids)"
      ],
      "execution_count": 27,
      "outputs": []
    },
    {
      "cell_type": "code",
      "metadata": {
        "id": "K8nJoUrQkZ2A",
        "colab_type": "code",
        "colab": {}
      },
      "source": [
        "train_sampler = RandomSampler(train_dataset)"
      ],
      "execution_count": 28,
      "outputs": []
    },
    {
      "cell_type": "code",
      "metadata": {
        "id": "QRKGkl6XklGH",
        "colab_type": "code",
        "colab": {}
      },
      "source": [
        "train_dataloader = DataLoader(train_dataset, sampler=train_sampler, batch_size=batch_size)"
      ],
      "execution_count": 29,
      "outputs": []
    },
    {
      "cell_type": "code",
      "metadata": {
        "id": "MMCg3_kR5Mg1",
        "colab_type": "code",
        "colab": {
          "base_uri": "https://localhost:8080/",
          "height": 220,
          "referenced_widgets": [
            "8015bb9c01904d24b81e2d2a5849ac3c",
            "396d46f576454e95a81b6a18cb7bf063",
            "e91f5fda3d7e4690bb6ef6cc01710121",
            "223fd41510284fd581f71c67950ce8a9",
            "61b284163dbf4a10992c62841e232986",
            "ec86fff38b96420898ebabc584bcda26",
            "8f6bc695e3164ef0ba007dd6827b01e2",
            "826654158a234c6c9695668b77c2495f",
            "2be6c85f4a59449684ce8a1dc67f2e43",
            "4162c05fd8ab4efbbb6822947d10e6f0",
            "fe022be89f7a4434a496548e29cf2a73",
            "577b9aacbf0946cebf78461a5ca26227",
            "6dafc70718304f509e187c3ba61efd08",
            "240d0e0a2bc143c58a287597f5d01331",
            "1b464f5545d74807893ca6e5b0706541",
            "dcdf2df4d8b04290a62ebd4495b2558d"
          ]
        },
        "outputId": "0e380b3f-1497-47ea-e1c1-f0c7c492f4e4"
      },
      "source": [
        "model_class, pretrained_weights = (\n",
        "    optimus.BertForSequenceClassification,\n",
        "    \"bert-base-uncased\",\n",
        ")\n",
        "\n",
        "model = model_class.from_pretrained(pretrained_weights, num_labels=3)"
      ],
      "execution_count": 30,
      "outputs": [
        {
          "output_type": "display_data",
          "data": {
            "application/vnd.jupyter.widget-view+json": {
              "model_id": "8015bb9c01904d24b81e2d2a5849ac3c",
              "version_minor": 0,
              "version_major": 2
            },
            "text/plain": [
              "HBox(children=(FloatProgress(value=0.0, description='Downloading', max=433.0, style=ProgressStyle(description_…"
            ]
          },
          "metadata": {
            "tags": []
          }
        },
        {
          "output_type": "stream",
          "text": [
            "\n"
          ],
          "name": "stdout"
        },
        {
          "output_type": "display_data",
          "data": {
            "application/vnd.jupyter.widget-view+json": {
              "model_id": "2be6c85f4a59449684ce8a1dc67f2e43",
              "version_minor": 0,
              "version_major": 2
            },
            "text/plain": [
              "HBox(children=(FloatProgress(value=0.0, description='Downloading', max=440473133.0, style=ProgressStyle(descri…"
            ]
          },
          "metadata": {
            "tags": []
          }
        },
        {
          "output_type": "stream",
          "text": [
            "\n"
          ],
          "name": "stdout"
        },
        {
          "output_type": "stream",
          "text": [
            "Some weights of the model checkpoint at bert-base-uncased were not used when initializing BertForSequenceClassification: ['cls.predictions.bias', 'cls.predictions.transform.dense.weight', 'cls.predictions.transform.dense.bias', 'cls.predictions.decoder.weight', 'cls.seq_relationship.weight', 'cls.seq_relationship.bias', 'cls.predictions.transform.LayerNorm.weight', 'cls.predictions.transform.LayerNorm.bias']\n",
            "- This IS expected if you are initializing BertForSequenceClassification from the checkpoint of a model trained on another task or with another architecture (e.g. initializing a BertForSequenceClassification model from a BertForPretraining model).\n",
            "- This IS NOT expected if you are initializing BertForSequenceClassification from the checkpoint of a model that you expect to be exactly identical (initializing a BertForSequenceClassification model from a BertForSequenceClassification model).\n",
            "Some weights of BertForSequenceClassification were not initialized from the model checkpoint at bert-base-uncased and are newly initialized: ['classifier.weight', 'classifier.bias']\n",
            "You should probably TRAIN this model on a down-stream task to be able to use it for predictions and inference.\n"
          ],
          "name": "stderr"
        }
      ]
    },
    {
      "cell_type": "code",
      "metadata": {
        "id": "f3nInvy8lv-C",
        "colab_type": "code",
        "colab": {}
      },
      "source": [
        "model = model.to(device)"
      ],
      "execution_count": 31,
      "outputs": []
    },
    {
      "cell_type": "code",
      "metadata": {
        "id": "MZ-uuUi7lxBU",
        "colab_type": "code",
        "colab": {}
      },
      "source": [
        "optimizer_params = [\n",
        "  {'params': [p for n, p in model.named_parameters()], 'weight_decay_rate': 0.0}\n",
        "]"
      ],
      "execution_count": 32,
      "outputs": []
    },
    {
      "cell_type": "code",
      "metadata": {
        "id": "55EeaheBbJ4z",
        "colab_type": "code",
        "colab": {}
      },
      "source": [
        "optimizer = optimus.AdamW(model.parameters(), lr=lr, correct_bias=False)\n",
        "scheduler = optimus.get_linear_schedule_with_warmup(optimizer, num_warmup_steps=100, num_training_steps=num_training_steps)"
      ],
      "execution_count": 33,
      "outputs": []
    },
    {
      "cell_type": "code",
      "metadata": {
        "id": "fn1ks39QVmXg",
        "colab_type": "code",
        "colab": {
          "base_uri": "https://localhost:8080/",
          "height": 1000
        },
        "outputId": "15de2ebd-0621-4070-8ebb-d02c3849e9d5"
      },
      "source": [
        "model.train()\n",
        "for step, batch in enumerate(tqdm(train_dataloader)):\n",
        "  input_ids, input_mask, segment_ids, label_ids = batch\n",
        "  \n",
        "  input_ids = input_ids.to(device)\n",
        "  input_mask = input_mask.to(device)\n",
        "  segment_ids = segment_ids.to(device)\n",
        "  label_ids = label_ids.to(device)\n",
        "\n",
        "  loss, _ = model(input_ids=input_ids, attention_mask=input_mask, token_type_ids=segment_ids, labels=label_ids)\n",
        "\n",
        "  loss.backward()\n",
        "  optimizer.step()\n",
        "  scheduler.step()"
      ],
      "execution_count": 42,
      "outputs": [
        {
          "output_type": "stream",
          "text": [
            "\n",
            "\n",
            "  0%|          | 0/313 [00:00<?, ?it/s]\u001b[A\u001b[A\n",
            "\n",
            "  0%|          | 1/313 [00:01<06:45,  1.30s/it]\u001b[A\u001b[A\n",
            "\n",
            "  1%|          | 2/313 [00:02<06:32,  1.26s/it]\u001b[A\u001b[A\n",
            "\n",
            "  1%|          | 3/313 [00:03<06:23,  1.24s/it]\u001b[A\u001b[A\n",
            "\n",
            "  1%|▏         | 4/313 [00:04<06:16,  1.22s/it]\u001b[A\u001b[A\n",
            "\n",
            "  2%|▏         | 5/313 [00:05<06:10,  1.20s/it]\u001b[A\u001b[A\n",
            "\n",
            "  2%|▏         | 6/313 [00:07<06:08,  1.20s/it]\u001b[A\u001b[A\n",
            "\n",
            "  2%|▏         | 7/313 [00:08<06:03,  1.19s/it]\u001b[A\u001b[A\n",
            "\n",
            "  3%|▎         | 8/313 [00:09<06:02,  1.19s/it]\u001b[A\u001b[A\n",
            "\n",
            "  3%|▎         | 9/313 [00:10<05:59,  1.18s/it]\u001b[A\u001b[A\n",
            "\n",
            "  3%|▎         | 10/313 [00:11<05:57,  1.18s/it]\u001b[A\u001b[A\n",
            "\n",
            "  4%|▎         | 11/313 [00:13<05:56,  1.18s/it]\u001b[A\u001b[A\n",
            "\n",
            "  4%|▍         | 12/313 [00:14<05:54,  1.18s/it]\u001b[A\u001b[A\n",
            "\n",
            "  4%|▍         | 13/313 [00:15<05:53,  1.18s/it]\u001b[A\u001b[A\n",
            "\n",
            "  4%|▍         | 14/313 [00:16<05:51,  1.18s/it]\u001b[A\u001b[A\n",
            "\n",
            "  5%|▍         | 15/313 [00:17<05:51,  1.18s/it]\u001b[A\u001b[A\n",
            "\n",
            "  5%|▌         | 16/313 [00:18<05:50,  1.18s/it]\u001b[A\u001b[A\n",
            "\n",
            "  5%|▌         | 17/313 [00:20<05:49,  1.18s/it]\u001b[A\u001b[A\n",
            "\n",
            "  6%|▌         | 18/313 [00:21<05:47,  1.18s/it]\u001b[A\u001b[A\n",
            "\n",
            "  6%|▌         | 19/313 [00:22<05:47,  1.18s/it]\u001b[A\u001b[A\n",
            "\n",
            "  6%|▋         | 20/313 [00:23<05:46,  1.18s/it]\u001b[A\u001b[A\n",
            "\n",
            "  7%|▋         | 21/313 [00:24<05:45,  1.18s/it]\u001b[A\u001b[A\n",
            "\n",
            "  7%|▋         | 22/313 [00:26<05:44,  1.18s/it]\u001b[A\u001b[A\n",
            "\n",
            "  7%|▋         | 23/313 [00:27<05:42,  1.18s/it]\u001b[A\u001b[A\n",
            "\n",
            "  8%|▊         | 24/313 [00:28<05:42,  1.18s/it]\u001b[A\u001b[A\n",
            "\n",
            "  8%|▊         | 25/313 [00:29<05:40,  1.18s/it]\u001b[A\u001b[A\n",
            "\n",
            "  8%|▊         | 26/313 [00:30<05:39,  1.18s/it]\u001b[A\u001b[A\n",
            "\n",
            "  9%|▊         | 27/313 [00:31<05:37,  1.18s/it]\u001b[A\u001b[A\n",
            "\n",
            "  9%|▉         | 28/313 [00:33<05:36,  1.18s/it]\u001b[A\u001b[A\n",
            "\n",
            "  9%|▉         | 29/313 [00:34<05:34,  1.18s/it]\u001b[A\u001b[A\n",
            "\n",
            " 10%|▉         | 30/313 [00:35<05:33,  1.18s/it]\u001b[A\u001b[A\n",
            "\n",
            " 10%|▉         | 31/313 [00:36<05:33,  1.18s/it]\u001b[A\u001b[A\n",
            "\n",
            " 10%|█         | 32/313 [00:37<05:30,  1.18s/it]\u001b[A\u001b[A\n",
            "\n",
            " 11%|█         | 33/313 [00:39<05:29,  1.18s/it]\u001b[A\u001b[A\n",
            "\n",
            " 11%|█         | 34/313 [00:40<05:28,  1.18s/it]\u001b[A\u001b[A\n",
            "\n",
            " 11%|█         | 35/313 [00:41<05:27,  1.18s/it]\u001b[A\u001b[A\n",
            "\n",
            " 12%|█▏        | 36/313 [00:42<05:26,  1.18s/it]\u001b[A\u001b[A\n",
            "\n",
            " 12%|█▏        | 37/313 [00:43<05:25,  1.18s/it]\u001b[A\u001b[A\n",
            "\n",
            " 12%|█▏        | 38/313 [00:44<05:24,  1.18s/it]\u001b[A\u001b[A\n",
            "\n",
            " 12%|█▏        | 39/313 [00:46<05:22,  1.18s/it]\u001b[A\u001b[A\n",
            "\n",
            " 13%|█▎        | 40/313 [00:47<05:21,  1.18s/it]\u001b[A\u001b[A\n",
            "\n",
            " 13%|█▎        | 41/313 [00:48<05:20,  1.18s/it]\u001b[A\u001b[A\n",
            "\n",
            " 13%|█▎        | 42/313 [00:49<05:19,  1.18s/it]\u001b[A\u001b[A\n",
            "\n",
            " 14%|█▎        | 43/313 [00:50<05:18,  1.18s/it]\u001b[A\u001b[A\n",
            "\n",
            " 14%|█▍        | 44/313 [00:51<05:17,  1.18s/it]\u001b[A\u001b[A\n",
            "\n",
            " 14%|█▍        | 45/313 [00:53<05:16,  1.18s/it]\u001b[A\u001b[A\n",
            "\n",
            " 15%|█▍        | 46/313 [00:54<05:13,  1.18s/it]\u001b[A\u001b[A\n",
            "\n",
            " 15%|█▌        | 47/313 [00:55<05:13,  1.18s/it]\u001b[A\u001b[A\n",
            "\n",
            " 15%|█▌        | 48/313 [00:56<05:12,  1.18s/it]\u001b[A\u001b[A\n",
            "\n",
            " 16%|█▌        | 49/313 [00:57<05:10,  1.18s/it]\u001b[A\u001b[A\n",
            "\n",
            " 16%|█▌        | 50/313 [00:59<05:09,  1.18s/it]\u001b[A\u001b[A\n",
            "\n",
            " 16%|█▋        | 51/313 [01:00<05:09,  1.18s/it]\u001b[A\u001b[A\n",
            "\n",
            " 17%|█▋        | 52/313 [01:01<05:07,  1.18s/it]\u001b[A\u001b[A\n",
            "\n",
            " 17%|█▋        | 53/313 [01:02<05:05,  1.18s/it]\u001b[A\u001b[A\n",
            "\n",
            " 17%|█▋        | 54/313 [01:03<05:05,  1.18s/it]\u001b[A\u001b[A\n",
            "\n",
            " 18%|█▊        | 55/313 [01:04<05:03,  1.18s/it]\u001b[A\u001b[A\n",
            "\n",
            " 18%|█▊        | 56/313 [01:06<05:01,  1.17s/it]\u001b[A\u001b[A\n",
            "\n",
            " 18%|█▊        | 57/313 [01:07<05:00,  1.18s/it]\u001b[A\u001b[A\n",
            "\n",
            " 19%|█▊        | 58/313 [01:08<04:59,  1.18s/it]\u001b[A\u001b[A\n",
            "\n",
            " 19%|█▉        | 59/313 [01:09<04:58,  1.17s/it]\u001b[A\u001b[A\n",
            "\n",
            " 19%|█▉        | 60/313 [01:10<04:57,  1.18s/it]\u001b[A\u001b[A\n",
            "\n",
            " 19%|█▉        | 61/313 [01:11<04:57,  1.18s/it]\u001b[A\u001b[A\n",
            "\n",
            " 20%|█▉        | 62/313 [01:13<04:54,  1.17s/it]\u001b[A\u001b[A\n",
            "\n",
            " 20%|██        | 63/313 [01:14<04:53,  1.18s/it]\u001b[A\u001b[A\n",
            "\n",
            " 20%|██        | 64/313 [01:15<04:53,  1.18s/it]\u001b[A\u001b[A\n",
            "\n",
            " 21%|██        | 65/313 [01:16<04:51,  1.18s/it]\u001b[A\u001b[A\n",
            "\n",
            " 21%|██        | 66/313 [01:17<04:51,  1.18s/it]\u001b[A\u001b[A\n",
            "\n",
            " 21%|██▏       | 67/313 [01:19<04:50,  1.18s/it]\u001b[A\u001b[A\n",
            "\n",
            " 22%|██▏       | 68/313 [01:20<04:48,  1.18s/it]\u001b[A\u001b[A\n",
            "\n",
            " 22%|██▏       | 69/313 [01:21<04:47,  1.18s/it]\u001b[A\u001b[A\n",
            "\n",
            " 22%|██▏       | 70/313 [01:22<04:46,  1.18s/it]\u001b[A\u001b[A\n",
            "\n",
            " 23%|██▎       | 71/313 [01:23<04:44,  1.18s/it]\u001b[A\u001b[A\n",
            "\n",
            " 23%|██▎       | 72/313 [01:24<04:43,  1.18s/it]\u001b[A\u001b[A\n",
            "\n",
            " 23%|██▎       | 73/313 [01:26<04:42,  1.18s/it]\u001b[A\u001b[A\n",
            "\n",
            " 24%|██▎       | 74/313 [01:27<04:41,  1.18s/it]\u001b[A\u001b[A\n",
            "\n",
            " 24%|██▍       | 75/313 [01:28<04:39,  1.18s/it]\u001b[A\u001b[A\n",
            "\n",
            " 24%|██▍       | 76/313 [01:29<04:38,  1.18s/it]\u001b[A\u001b[A\n",
            "\n",
            " 25%|██▍       | 77/313 [01:30<04:37,  1.17s/it]\u001b[A\u001b[A\n",
            "\n",
            " 25%|██▍       | 78/313 [01:31<04:36,  1.18s/it]\u001b[A\u001b[A\n",
            "\n",
            " 25%|██▌       | 79/313 [01:33<04:36,  1.18s/it]\u001b[A\u001b[A\n",
            "\n",
            " 26%|██▌       | 80/313 [01:34<04:34,  1.18s/it]\u001b[A\u001b[A\n",
            "\n",
            " 26%|██▌       | 81/313 [01:35<04:33,  1.18s/it]\u001b[A\u001b[A\n",
            "\n",
            " 26%|██▌       | 82/313 [01:36<04:31,  1.17s/it]\u001b[A\u001b[A\n",
            "\n",
            " 27%|██▋       | 83/313 [01:37<04:30,  1.18s/it]\u001b[A\u001b[A\n",
            "\n",
            " 27%|██▋       | 84/313 [01:39<04:29,  1.17s/it]\u001b[A\u001b[A\n",
            "\n",
            " 27%|██▋       | 85/313 [01:40<04:28,  1.18s/it]\u001b[A\u001b[A\n",
            "\n",
            " 27%|██▋       | 86/313 [01:41<04:26,  1.18s/it]\u001b[A\u001b[A\n",
            "\n",
            " 28%|██▊       | 87/313 [01:42<04:25,  1.18s/it]\u001b[A\u001b[A\n",
            "\n",
            " 28%|██▊       | 88/313 [01:43<04:24,  1.18s/it]\u001b[A\u001b[A\n",
            "\n",
            " 28%|██▊       | 89/313 [01:44<04:23,  1.18s/it]\u001b[A\u001b[A\n",
            "\n",
            " 29%|██▉       | 90/313 [01:46<04:22,  1.18s/it]\u001b[A\u001b[A\n",
            "\n",
            " 29%|██▉       | 91/313 [01:47<04:21,  1.18s/it]\u001b[A\u001b[A\n",
            "\n",
            " 29%|██▉       | 92/313 [01:48<04:19,  1.18s/it]\u001b[A\u001b[A\n",
            "\n",
            " 30%|██▉       | 93/313 [01:49<04:18,  1.18s/it]\u001b[A\u001b[A\n",
            "\n",
            " 30%|███       | 94/313 [01:50<04:17,  1.18s/it]\u001b[A\u001b[A\n",
            "\n",
            " 30%|███       | 95/313 [01:52<04:17,  1.18s/it]\u001b[A\u001b[A\n",
            "\n",
            " 31%|███       | 96/313 [01:53<04:15,  1.18s/it]\u001b[A\u001b[A\n",
            "\n",
            " 31%|███       | 97/313 [01:54<04:13,  1.17s/it]\u001b[A\u001b[A\n",
            "\n",
            " 31%|███▏      | 98/313 [01:55<04:12,  1.17s/it]\u001b[A\u001b[A\n",
            "\n",
            " 32%|███▏      | 99/313 [01:56<04:11,  1.17s/it]\u001b[A\u001b[A\n",
            "\n",
            " 32%|███▏      | 100/313 [01:57<04:10,  1.17s/it]\u001b[A\u001b[A\n",
            "\n",
            " 32%|███▏      | 101/313 [01:59<04:09,  1.17s/it]\u001b[A\u001b[A\n",
            "\n",
            " 33%|███▎      | 102/313 [02:00<04:08,  1.18s/it]\u001b[A\u001b[A\n",
            "\n",
            " 33%|███▎      | 103/313 [02:01<04:06,  1.18s/it]\u001b[A\u001b[A\n",
            "\n",
            " 33%|███▎      | 104/313 [02:02<04:06,  1.18s/it]\u001b[A\u001b[A\n",
            "\n",
            " 34%|███▎      | 105/313 [02:03<04:04,  1.18s/it]\u001b[A\u001b[A\n",
            "\n",
            " 34%|███▍      | 106/313 [02:04<04:03,  1.18s/it]\u001b[A\u001b[A\n",
            "\n",
            " 34%|███▍      | 107/313 [02:06<04:02,  1.18s/it]\u001b[A\u001b[A\n",
            "\n",
            " 35%|███▍      | 108/313 [02:07<04:01,  1.18s/it]\u001b[A\u001b[A\n",
            "\n",
            " 35%|███▍      | 109/313 [02:08<03:59,  1.18s/it]\u001b[A\u001b[A\n",
            "\n",
            " 35%|███▌      | 110/313 [02:09<03:58,  1.18s/it]\u001b[A\u001b[A\n",
            "\n",
            " 35%|███▌      | 111/313 [02:10<03:57,  1.18s/it]\u001b[A\u001b[A\n",
            "\n",
            " 36%|███▌      | 112/313 [02:11<03:56,  1.18s/it]\u001b[A\u001b[A\n",
            "\n",
            " 36%|███▌      | 113/313 [02:13<03:54,  1.17s/it]\u001b[A\u001b[A\n",
            "\n",
            " 36%|███▋      | 114/313 [02:14<03:53,  1.17s/it]\u001b[A\u001b[A\n",
            "\n",
            " 37%|███▋      | 115/313 [02:15<03:52,  1.17s/it]\u001b[A\u001b[A\n",
            "\n",
            " 37%|███▋      | 116/313 [02:16<03:51,  1.17s/it]\u001b[A\u001b[A\n",
            "\n",
            " 37%|███▋      | 117/313 [02:17<03:50,  1.18s/it]\u001b[A\u001b[A\n",
            "\n",
            " 38%|███▊      | 118/313 [02:19<03:49,  1.18s/it]\u001b[A\u001b[A\n",
            "\n",
            " 38%|███▊      | 119/313 [02:20<03:47,  1.18s/it]\u001b[A\u001b[A\n",
            "\n",
            " 38%|███▊      | 120/313 [02:21<03:47,  1.18s/it]\u001b[A\u001b[A\n",
            "\n",
            " 39%|███▊      | 121/313 [02:22<03:46,  1.18s/it]\u001b[A\u001b[A\n",
            "\n",
            " 39%|███▉      | 122/313 [02:23<03:44,  1.17s/it]\u001b[A\u001b[A\n",
            "\n",
            " 39%|███▉      | 123/313 [02:24<03:43,  1.18s/it]\u001b[A\u001b[A\n",
            "\n",
            " 40%|███▉      | 124/313 [02:26<03:42,  1.18s/it]\u001b[A\u001b[A\n",
            "\n",
            " 40%|███▉      | 125/313 [02:27<03:41,  1.18s/it]\u001b[A\u001b[A\n",
            "\n",
            " 40%|████      | 126/313 [02:28<03:40,  1.18s/it]\u001b[A\u001b[A\n",
            "\n",
            " 41%|████      | 127/313 [02:29<03:39,  1.18s/it]\u001b[A\u001b[A\n",
            "\n",
            " 41%|████      | 128/313 [02:30<03:38,  1.18s/it]\u001b[A\u001b[A\n",
            "\n",
            " 41%|████      | 129/313 [02:31<03:36,  1.18s/it]\u001b[A\u001b[A\n",
            "\n",
            " 42%|████▏     | 130/313 [02:33<03:35,  1.18s/it]\u001b[A\u001b[A\n",
            "\n",
            " 42%|████▏     | 131/313 [02:34<03:34,  1.18s/it]\u001b[A\u001b[A\n",
            "\n",
            " 42%|████▏     | 132/313 [02:35<03:32,  1.18s/it]\u001b[A\u001b[A\n",
            "\n",
            " 42%|████▏     | 133/313 [02:36<03:31,  1.18s/it]\u001b[A\u001b[A\n",
            "\n",
            " 43%|████▎     | 134/313 [02:37<03:30,  1.18s/it]\u001b[A\u001b[A\n",
            "\n",
            " 43%|████▎     | 135/313 [02:39<03:29,  1.18s/it]\u001b[A\u001b[A\n",
            "\n",
            " 43%|████▎     | 136/313 [02:40<03:28,  1.18s/it]\u001b[A\u001b[A\n",
            "\n",
            " 44%|████▍     | 137/313 [02:41<03:27,  1.18s/it]\u001b[A\u001b[A\n",
            "\n",
            " 44%|████▍     | 138/313 [02:42<03:26,  1.18s/it]\u001b[A\u001b[A\n",
            "\n",
            " 44%|████▍     | 139/313 [02:43<03:25,  1.18s/it]\u001b[A\u001b[A\n",
            "\n",
            " 45%|████▍     | 140/313 [02:44<03:23,  1.18s/it]\u001b[A\u001b[A\n",
            "\n",
            " 45%|████▌     | 141/313 [02:46<03:22,  1.18s/it]\u001b[A\u001b[A\n",
            "\n",
            " 45%|████▌     | 142/313 [02:47<03:20,  1.18s/it]\u001b[A\u001b[A\n",
            "\n",
            " 46%|████▌     | 143/313 [02:48<03:20,  1.18s/it]\u001b[A\u001b[A\n",
            "\n",
            " 46%|████▌     | 144/313 [02:49<03:18,  1.18s/it]\u001b[A\u001b[A\n",
            "\n",
            " 46%|████▋     | 145/313 [02:50<03:17,  1.18s/it]\u001b[A\u001b[A\n",
            "\n",
            " 47%|████▋     | 146/313 [02:52<03:16,  1.18s/it]\u001b[A\u001b[A\n",
            "\n",
            " 47%|████▋     | 147/313 [02:53<03:14,  1.17s/it]\u001b[A\u001b[A\n",
            "\n",
            " 47%|████▋     | 148/313 [02:54<03:13,  1.17s/it]\u001b[A\u001b[A\n",
            "\n",
            " 48%|████▊     | 149/313 [02:55<03:12,  1.17s/it]\u001b[A\u001b[A\n",
            "\n",
            " 48%|████▊     | 150/313 [02:56<03:11,  1.17s/it]\u001b[A\u001b[A\n",
            "\n",
            " 48%|████▊     | 151/313 [02:57<03:10,  1.18s/it]\u001b[A\u001b[A\n",
            "\n",
            " 49%|████▊     | 152/313 [02:59<03:09,  1.18s/it]\u001b[A\u001b[A\n",
            "\n",
            " 49%|████▉     | 153/313 [03:00<03:08,  1.18s/it]\u001b[A\u001b[A\n",
            "\n",
            " 49%|████▉     | 154/313 [03:01<03:07,  1.18s/it]\u001b[A\u001b[A\n",
            "\n",
            " 50%|████▉     | 155/313 [03:02<03:05,  1.18s/it]\u001b[A\u001b[A\n",
            "\n",
            " 50%|████▉     | 156/313 [03:03<03:04,  1.18s/it]\u001b[A\u001b[A\n",
            "\n",
            " 50%|█████     | 157/313 [03:04<03:03,  1.18s/it]\u001b[A\u001b[A\n",
            "\n",
            " 50%|█████     | 158/313 [03:06<03:02,  1.18s/it]\u001b[A\u001b[A\n",
            "\n",
            " 51%|█████     | 159/313 [03:07<03:01,  1.18s/it]\u001b[A\u001b[A\n",
            "\n",
            " 51%|█████     | 160/313 [03:08<03:00,  1.18s/it]\u001b[A\u001b[A\n",
            "\n",
            " 51%|█████▏    | 161/313 [03:09<02:59,  1.18s/it]\u001b[A\u001b[A\n",
            "\n",
            " 52%|█████▏    | 162/313 [03:10<02:57,  1.18s/it]\u001b[A\u001b[A\n",
            "\n",
            " 52%|█████▏    | 163/313 [03:12<02:56,  1.18s/it]\u001b[A\u001b[A\n",
            "\n",
            " 52%|█████▏    | 164/313 [03:13<02:54,  1.17s/it]\u001b[A\u001b[A\n",
            "\n",
            " 53%|█████▎    | 165/313 [03:14<02:53,  1.17s/it]\u001b[A\u001b[A\n",
            "\n",
            " 53%|█████▎    | 166/313 [03:15<02:52,  1.17s/it]\u001b[A\u001b[A\n",
            "\n",
            " 53%|█████▎    | 167/313 [03:16<02:51,  1.18s/it]\u001b[A\u001b[A\n",
            "\n",
            " 54%|█████▎    | 168/313 [03:17<02:50,  1.17s/it]\u001b[A\u001b[A\n",
            "\n",
            " 54%|█████▍    | 169/313 [03:19<02:49,  1.17s/it]\u001b[A\u001b[A\n",
            "\n",
            " 54%|█████▍    | 170/313 [03:20<02:48,  1.18s/it]\u001b[A\u001b[A\n",
            "\n",
            " 55%|█████▍    | 171/313 [03:21<02:47,  1.18s/it]\u001b[A\u001b[A\n",
            "\n",
            " 55%|█████▍    | 172/313 [03:22<02:45,  1.18s/it]\u001b[A\u001b[A\n",
            "\n",
            " 55%|█████▌    | 173/313 [03:23<02:44,  1.18s/it]\u001b[A\u001b[A\n",
            "\n",
            " 56%|█████▌    | 174/313 [03:24<02:43,  1.18s/it]\u001b[A\u001b[A\n",
            "\n",
            " 56%|█████▌    | 175/313 [03:26<02:42,  1.18s/it]\u001b[A\u001b[A\n",
            "\n",
            " 56%|█████▌    | 176/313 [03:27<02:41,  1.18s/it]\u001b[A\u001b[A\n",
            "\n",
            " 57%|█████▋    | 177/313 [03:28<02:40,  1.18s/it]\u001b[A\u001b[A\n",
            "\n",
            " 57%|█████▋    | 178/313 [03:29<02:38,  1.18s/it]\u001b[A\u001b[A\n",
            "\n",
            " 57%|█████▋    | 179/313 [03:30<02:37,  1.18s/it]\u001b[A\u001b[A\n",
            "\n",
            " 58%|█████▊    | 180/313 [03:32<02:36,  1.18s/it]\u001b[A\u001b[A\n",
            "\n",
            " 58%|█████▊    | 181/313 [03:33<02:35,  1.18s/it]\u001b[A\u001b[A\n",
            "\n",
            " 58%|█████▊    | 182/313 [03:34<02:33,  1.17s/it]\u001b[A\u001b[A\n",
            "\n",
            " 58%|█████▊    | 183/313 [03:35<02:33,  1.18s/it]\u001b[A\u001b[A\n",
            "\n",
            " 59%|█████▉    | 184/313 [03:36<02:32,  1.18s/it]\u001b[A\u001b[A\n",
            "\n",
            " 59%|█████▉    | 185/313 [03:37<02:30,  1.18s/it]\u001b[A\u001b[A\n",
            "\n",
            " 59%|█████▉    | 186/313 [03:39<02:29,  1.18s/it]\u001b[A\u001b[A\n",
            "\n",
            " 60%|█████▉    | 187/313 [03:40<02:28,  1.18s/it]\u001b[A\u001b[A\n",
            "\n",
            " 60%|██████    | 188/313 [03:41<02:27,  1.18s/it]\u001b[A\u001b[A\n",
            "\n",
            " 60%|██████    | 189/313 [03:42<02:25,  1.17s/it]\u001b[A\u001b[A\n",
            "\n",
            " 61%|██████    | 190/313 [03:43<02:24,  1.18s/it]\u001b[A\u001b[A\n",
            "\n",
            " 61%|██████    | 191/313 [03:44<02:23,  1.18s/it]\u001b[A\u001b[A\n",
            "\n",
            " 61%|██████▏   | 192/313 [03:46<02:21,  1.17s/it]\u001b[A\u001b[A\n",
            "\n",
            " 62%|██████▏   | 193/313 [03:47<02:21,  1.18s/it]\u001b[A\u001b[A\n",
            "\n",
            " 62%|██████▏   | 194/313 [03:48<02:20,  1.18s/it]\u001b[A\u001b[A\n",
            "\n",
            " 62%|██████▏   | 195/313 [03:49<02:18,  1.17s/it]\u001b[A\u001b[A\n",
            "\n",
            " 63%|██████▎   | 196/313 [03:50<02:17,  1.17s/it]\u001b[A\u001b[A\n",
            "\n",
            " 63%|██████▎   | 197/313 [03:51<02:16,  1.18s/it]\u001b[A\u001b[A\n",
            "\n",
            " 63%|██████▎   | 198/313 [03:53<02:15,  1.18s/it]\u001b[A\u001b[A\n",
            "\n",
            " 64%|██████▎   | 199/313 [03:54<02:14,  1.18s/it]\u001b[A\u001b[A\n",
            "\n",
            " 64%|██████▍   | 200/313 [03:55<02:13,  1.18s/it]\u001b[A\u001b[A\n",
            "\n",
            " 64%|██████▍   | 201/313 [03:56<02:11,  1.18s/it]\u001b[A\u001b[A\n",
            "\n",
            " 65%|██████▍   | 202/313 [03:57<02:10,  1.17s/it]\u001b[A\u001b[A\n",
            "\n",
            " 65%|██████▍   | 203/313 [03:59<02:09,  1.18s/it]\u001b[A\u001b[A\n",
            "\n",
            " 65%|██████▌   | 204/313 [04:00<02:08,  1.18s/it]\u001b[A\u001b[A\n",
            "\n",
            " 65%|██████▌   | 205/313 [04:01<02:07,  1.18s/it]\u001b[A\u001b[A\n",
            "\n",
            " 66%|██████▌   | 206/313 [04:02<02:05,  1.18s/it]\u001b[A\u001b[A\n",
            "\n",
            " 66%|██████▌   | 207/313 [04:03<02:04,  1.18s/it]\u001b[A\u001b[A\n",
            "\n",
            " 66%|██████▋   | 208/313 [04:04<02:03,  1.18s/it]\u001b[A\u001b[A\n",
            "\n",
            " 67%|██████▋   | 209/313 [04:06<02:02,  1.18s/it]\u001b[A\u001b[A\n",
            "\n",
            " 67%|██████▋   | 210/313 [04:07<02:01,  1.18s/it]\u001b[A\u001b[A\n",
            "\n",
            " 67%|██████▋   | 211/313 [04:08<02:00,  1.18s/it]\u001b[A\u001b[A\n",
            "\n",
            " 68%|██████▊   | 212/313 [04:09<01:58,  1.18s/it]\u001b[A\u001b[A\n",
            "\n",
            " 68%|██████▊   | 213/313 [04:10<01:57,  1.18s/it]\u001b[A\u001b[A\n",
            "\n",
            " 68%|██████▊   | 214/313 [04:12<01:56,  1.18s/it]\u001b[A\u001b[A\n",
            "\n",
            " 69%|██████▊   | 215/313 [04:13<01:55,  1.18s/it]\u001b[A\u001b[A\n",
            "\n",
            " 69%|██████▉   | 216/313 [04:14<01:54,  1.18s/it]\u001b[A\u001b[A\n",
            "\n",
            " 69%|██████▉   | 217/313 [04:15<01:52,  1.18s/it]\u001b[A\u001b[A\n",
            "\n",
            " 70%|██████▉   | 218/313 [04:16<01:51,  1.18s/it]\u001b[A\u001b[A\n",
            "\n",
            " 70%|██████▉   | 219/313 [04:17<01:50,  1.18s/it]\u001b[A\u001b[A\n",
            "\n",
            " 70%|███████   | 220/313 [04:19<01:49,  1.18s/it]\u001b[A\u001b[A\n",
            "\n",
            " 71%|███████   | 221/313 [04:20<01:48,  1.18s/it]\u001b[A\u001b[A\n",
            "\n",
            " 71%|███████   | 222/313 [04:21<01:47,  1.18s/it]\u001b[A\u001b[A\n",
            "\n",
            " 71%|███████   | 223/313 [04:22<01:46,  1.18s/it]\u001b[A\u001b[A\n",
            "\n",
            " 72%|███████▏  | 224/313 [04:23<01:44,  1.18s/it]\u001b[A\u001b[A\n",
            "\n",
            " 72%|███████▏  | 225/313 [04:24<01:43,  1.18s/it]\u001b[A\u001b[A\n",
            "\n",
            " 72%|███████▏  | 226/313 [04:26<01:42,  1.18s/it]\u001b[A\u001b[A\n",
            "\n",
            " 73%|███████▎  | 227/313 [04:27<01:41,  1.18s/it]\u001b[A\u001b[A\n",
            "\n",
            " 73%|███████▎  | 228/313 [04:28<01:39,  1.18s/it]\u001b[A\u001b[A\n",
            "\n",
            " 73%|███████▎  | 229/313 [04:29<01:38,  1.17s/it]\u001b[A\u001b[A\n",
            "\n",
            " 73%|███████▎  | 230/313 [04:30<01:37,  1.18s/it]\u001b[A\u001b[A\n",
            "\n",
            " 74%|███████▍  | 231/313 [04:32<01:36,  1.18s/it]\u001b[A\u001b[A\n",
            "\n",
            " 74%|███████▍  | 232/313 [04:33<01:35,  1.18s/it]\u001b[A\u001b[A\n",
            "\n",
            " 74%|███████▍  | 233/313 [04:34<01:34,  1.18s/it]\u001b[A\u001b[A\n",
            "\n",
            " 75%|███████▍  | 234/313 [04:35<01:32,  1.17s/it]\u001b[A\u001b[A\n",
            "\n",
            " 75%|███████▌  | 235/313 [04:36<01:31,  1.18s/it]\u001b[A\u001b[A\n",
            "\n",
            " 75%|███████▌  | 236/313 [04:37<01:30,  1.18s/it]\u001b[A\u001b[A\n",
            "\n",
            " 76%|███████▌  | 237/313 [04:39<01:29,  1.18s/it]\u001b[A\u001b[A\n",
            "\n",
            " 76%|███████▌  | 238/313 [04:40<01:28,  1.18s/it]\u001b[A\u001b[A\n",
            "\n",
            " 76%|███████▋  | 239/313 [04:41<01:26,  1.17s/it]\u001b[A\u001b[A\n",
            "\n",
            " 77%|███████▋  | 240/313 [04:42<01:25,  1.17s/it]\u001b[A\u001b[A\n",
            "\n",
            " 77%|███████▋  | 241/313 [04:43<01:24,  1.17s/it]\u001b[A\u001b[A\n",
            "\n",
            " 77%|███████▋  | 242/313 [04:44<01:23,  1.17s/it]\u001b[A\u001b[A\n",
            "\n",
            " 78%|███████▊  | 243/313 [04:46<01:22,  1.18s/it]\u001b[A\u001b[A\n",
            "\n",
            " 78%|███████▊  | 244/313 [04:47<01:21,  1.18s/it]\u001b[A\u001b[A\n",
            "\n",
            " 78%|███████▊  | 245/313 [04:48<01:19,  1.18s/it]\u001b[A\u001b[A\n",
            "\n",
            " 79%|███████▊  | 246/313 [04:49<01:18,  1.18s/it]\u001b[A\u001b[A\n",
            "\n",
            " 79%|███████▉  | 247/313 [04:50<01:17,  1.18s/it]\u001b[A\u001b[A\n",
            "\n",
            " 79%|███████▉  | 248/313 [04:52<01:16,  1.18s/it]\u001b[A\u001b[A\n",
            "\n",
            " 80%|███████▉  | 249/313 [04:53<01:15,  1.18s/it]\u001b[A\u001b[A\n",
            "\n",
            " 80%|███████▉  | 250/313 [04:54<01:14,  1.18s/it]\u001b[A\u001b[A\n",
            "\n",
            " 80%|████████  | 251/313 [04:55<01:12,  1.18s/it]\u001b[A\u001b[A\n",
            "\n",
            " 81%|████████  | 252/313 [04:56<01:11,  1.18s/it]\u001b[A\u001b[A\n",
            "\n",
            " 81%|████████  | 253/313 [04:57<01:10,  1.18s/it]\u001b[A\u001b[A\n",
            "\n",
            " 81%|████████  | 254/313 [04:59<01:09,  1.18s/it]\u001b[A\u001b[A\n",
            "\n",
            " 81%|████████▏ | 255/313 [05:00<01:08,  1.18s/it]\u001b[A\u001b[A\n",
            "\n",
            " 82%|████████▏ | 256/313 [05:01<01:07,  1.18s/it]\u001b[A\u001b[A\n",
            "\n",
            " 82%|████████▏ | 257/313 [05:02<01:06,  1.18s/it]\u001b[A\u001b[A\n",
            "\n",
            " 82%|████████▏ | 258/313 [05:03<01:04,  1.18s/it]\u001b[A\u001b[A\n",
            "\n",
            " 83%|████████▎ | 259/313 [05:04<01:03,  1.18s/it]\u001b[A\u001b[A\n",
            "\n",
            " 83%|████████▎ | 260/313 [05:06<01:02,  1.18s/it]\u001b[A\u001b[A\n",
            "\n",
            " 83%|████████▎ | 261/313 [05:07<01:01,  1.18s/it]\u001b[A\u001b[A\n",
            "\n",
            " 84%|████████▎ | 262/313 [05:08<00:59,  1.17s/it]\u001b[A\u001b[A\n",
            "\n",
            " 84%|████████▍ | 263/313 [05:09<00:58,  1.18s/it]\u001b[A\u001b[A\n",
            "\n",
            " 84%|████████▍ | 264/313 [05:10<00:57,  1.18s/it]\u001b[A\u001b[A\n",
            "\n",
            " 85%|████████▍ | 265/313 [05:12<00:56,  1.18s/it]\u001b[A\u001b[A\n",
            "\n",
            " 85%|████████▍ | 266/313 [05:13<00:55,  1.17s/it]\u001b[A\u001b[A\n",
            "\n",
            " 85%|████████▌ | 267/313 [05:14<00:54,  1.18s/it]\u001b[A\u001b[A\n",
            "\n",
            " 86%|████████▌ | 268/313 [05:15<00:52,  1.17s/it]\u001b[A\u001b[A\n",
            "\n",
            " 86%|████████▌ | 269/313 [05:16<00:51,  1.18s/it]\u001b[A\u001b[A\n",
            "\n",
            " 86%|████████▋ | 270/313 [05:17<00:50,  1.18s/it]\u001b[A\u001b[A\n",
            "\n",
            " 87%|████████▋ | 271/313 [05:19<00:49,  1.18s/it]\u001b[A\u001b[A\n",
            "\n",
            " 87%|████████▋ | 272/313 [05:20<00:48,  1.18s/it]\u001b[A\u001b[A\n",
            "\n",
            " 87%|████████▋ | 273/313 [05:21<00:47,  1.18s/it]\u001b[A\u001b[A\n",
            "\n",
            " 88%|████████▊ | 274/313 [05:22<00:45,  1.18s/it]\u001b[A\u001b[A\n",
            "\n",
            " 88%|████████▊ | 275/313 [05:23<00:44,  1.18s/it]\u001b[A\u001b[A\n",
            "\n",
            " 88%|████████▊ | 276/313 [05:24<00:43,  1.18s/it]\u001b[A\u001b[A\n",
            "\n",
            " 88%|████████▊ | 277/313 [05:26<00:42,  1.18s/it]\u001b[A\u001b[A\n",
            "\n",
            " 89%|████████▉ | 278/313 [05:27<00:41,  1.18s/it]\u001b[A\u001b[A\n",
            "\n",
            " 89%|████████▉ | 279/313 [05:28<00:40,  1.18s/it]\u001b[A\u001b[A\n",
            "\n",
            " 89%|████████▉ | 280/313 [05:29<00:38,  1.18s/it]\u001b[A\u001b[A\n",
            "\n",
            " 90%|████████▉ | 281/313 [05:30<00:37,  1.17s/it]\u001b[A\u001b[A\n",
            "\n",
            " 90%|█████████ | 282/313 [05:32<00:36,  1.18s/it]\u001b[A\u001b[A\n",
            "\n",
            " 90%|█████████ | 283/313 [05:33<00:35,  1.18s/it]\u001b[A\u001b[A\n",
            "\n",
            " 91%|█████████ | 284/313 [05:34<00:34,  1.18s/it]\u001b[A\u001b[A\n",
            "\n",
            " 91%|█████████ | 285/313 [05:35<00:32,  1.17s/it]\u001b[A\u001b[A\n",
            "\n",
            " 91%|█████████▏| 286/313 [05:36<00:31,  1.17s/it]\u001b[A\u001b[A\n",
            "\n",
            " 92%|█████████▏| 287/313 [05:37<00:30,  1.17s/it]\u001b[A\u001b[A\n",
            "\n",
            " 92%|█████████▏| 288/313 [05:39<00:29,  1.17s/it]\u001b[A\u001b[A\n",
            "\n",
            " 92%|█████████▏| 289/313 [05:40<00:28,  1.17s/it]\u001b[A\u001b[A\n",
            "\n",
            " 93%|█████████▎| 290/313 [05:41<00:26,  1.17s/it]\u001b[A\u001b[A\n",
            "\n",
            " 93%|█████████▎| 291/313 [05:42<00:25,  1.17s/it]\u001b[A\u001b[A\n",
            "\n",
            " 93%|█████████▎| 292/313 [05:43<00:24,  1.17s/it]\u001b[A\u001b[A\n",
            "\n",
            " 94%|█████████▎| 293/313 [05:44<00:23,  1.17s/it]\u001b[A\u001b[A\n",
            "\n",
            " 94%|█████████▍| 294/313 [05:46<00:22,  1.17s/it]\u001b[A\u001b[A\n",
            "\n",
            " 94%|█████████▍| 295/313 [05:47<00:21,  1.17s/it]\u001b[A\u001b[A\n",
            "\n",
            " 95%|█████████▍| 296/313 [05:48<00:19,  1.17s/it]\u001b[A\u001b[A\n",
            "\n",
            " 95%|█████████▍| 297/313 [05:49<00:18,  1.17s/it]\u001b[A\u001b[A\n",
            "\n",
            " 95%|█████████▌| 298/313 [05:50<00:17,  1.17s/it]\u001b[A\u001b[A\n",
            "\n",
            " 96%|█████████▌| 299/313 [05:51<00:16,  1.18s/it]\u001b[A\u001b[A\n",
            "\n",
            " 96%|█████████▌| 300/313 [05:53<00:15,  1.18s/it]\u001b[A\u001b[A\n",
            "\n",
            " 96%|█████████▌| 301/313 [05:54<00:14,  1.17s/it]\u001b[A\u001b[A\n",
            "\n",
            " 96%|█████████▋| 302/313 [05:55<00:12,  1.17s/it]\u001b[A\u001b[A\n",
            "\n",
            " 97%|█████████▋| 303/313 [05:56<00:11,  1.18s/it]\u001b[A\u001b[A\n",
            "\n",
            " 97%|█████████▋| 304/313 [05:57<00:10,  1.17s/it]\u001b[A\u001b[A\n",
            "\n",
            " 97%|█████████▋| 305/313 [05:59<00:09,  1.17s/it]\u001b[A\u001b[A\n",
            "\n",
            " 98%|█████████▊| 306/313 [06:00<00:08,  1.18s/it]\u001b[A\u001b[A\n",
            "\n",
            " 98%|█████████▊| 307/313 [06:01<00:07,  1.17s/it]\u001b[A\u001b[A\n",
            "\n",
            " 98%|█████████▊| 308/313 [06:02<00:05,  1.17s/it]\u001b[A\u001b[A\n",
            "\n",
            " 99%|█████████▊| 309/313 [06:03<00:04,  1.17s/it]\u001b[A\u001b[A\n",
            "\n",
            " 99%|█████████▉| 310/313 [06:04<00:03,  1.17s/it]\u001b[A\u001b[A\n",
            "\n",
            " 99%|█████████▉| 311/313 [06:06<00:02,  1.17s/it]\u001b[A\u001b[A\n",
            "\n",
            "100%|█████████▉| 312/313 [06:07<00:01,  1.17s/it]\u001b[A\u001b[A\n",
            "\n",
            "100%|██████████| 313/313 [06:07<00:00,  1.18s/it]\n"
          ],
          "name": "stderr"
        }
      ]
    }
  ]
}
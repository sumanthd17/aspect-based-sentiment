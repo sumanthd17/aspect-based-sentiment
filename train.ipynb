{
  "nbformat": 4,
  "nbformat_minor": 0,
  "metadata": {
    "colab": {
      "name": "train.ipynb",
      "provenance": [],
      "collapsed_sections": [],
      "authorship_tag": "ABX9TyPcrj2Snm2HPsdS7YPcBK/F",
      "include_colab_link": true
    },
    "kernelspec": {
      "name": "python3",
      "display_name": "Python 3"
    },
    "accelerator": "GPU"
  },
  "cells": [
    {
      "cell_type": "markdown",
      "metadata": {
        "id": "view-in-github",
        "colab_type": "text"
      },
      "source": [
        "<a href=\"https://colab.research.google.com/github/sumanthd17/aspect-based-sentiment/blob/master/train.ipynb\" target=\"_parent\"><img src=\"https://colab.research.google.com/assets/colab-badge.svg\" alt=\"Open In Colab\"/></a>"
      ]
    },
    {
      "cell_type": "code",
      "metadata": {
        "id": "32dC4ovO-Hn6",
        "colab_type": "code",
        "colab": {
          "base_uri": "https://localhost:8080/",
          "height": 615
        },
        "outputId": "fdcade47-0e97-44c0-9bd6-c26794bb6196"
      },
      "source": [
        "!pip install transformers"
      ],
      "execution_count": 1,
      "outputs": [
        {
          "output_type": "stream",
          "text": [
            "Collecting transformers\n",
            "\u001b[?25l  Downloading https://files.pythonhosted.org/packages/27/3c/91ed8f5c4e7ef3227b4119200fc0ed4b4fd965b1f0172021c25701087825/transformers-3.0.2-py3-none-any.whl (769kB)\n",
            "\r\u001b[K     |▍                               | 10kB 14.9MB/s eta 0:00:01\r\u001b[K     |▉                               | 20kB 4.9MB/s eta 0:00:01\r\u001b[K     |█▎                              | 30kB 6.1MB/s eta 0:00:01\r\u001b[K     |█▊                              | 40kB 6.3MB/s eta 0:00:01\r\u001b[K     |██▏                             | 51kB 5.5MB/s eta 0:00:01\r\u001b[K     |██▋                             | 61kB 5.9MB/s eta 0:00:01\r\u001b[K     |███                             | 71kB 6.4MB/s eta 0:00:01\r\u001b[K     |███▍                            | 81kB 7.0MB/s eta 0:00:01\r\u001b[K     |███▉                            | 92kB 7.5MB/s eta 0:00:01\r\u001b[K     |████▎                           | 102kB 7.4MB/s eta 0:00:01\r\u001b[K     |████▊                           | 112kB 7.4MB/s eta 0:00:01\r\u001b[K     |█████▏                          | 122kB 7.4MB/s eta 0:00:01\r\u001b[K     |█████▌                          | 133kB 7.4MB/s eta 0:00:01\r\u001b[K     |██████                          | 143kB 7.4MB/s eta 0:00:01\r\u001b[K     |██████▍                         | 153kB 7.4MB/s eta 0:00:01\r\u001b[K     |██████▉                         | 163kB 7.4MB/s eta 0:00:01\r\u001b[K     |███████▎                        | 174kB 7.4MB/s eta 0:00:01\r\u001b[K     |███████▊                        | 184kB 7.4MB/s eta 0:00:01\r\u001b[K     |████████                        | 194kB 7.4MB/s eta 0:00:01\r\u001b[K     |████████▌                       | 204kB 7.4MB/s eta 0:00:01\r\u001b[K     |█████████                       | 215kB 7.4MB/s eta 0:00:01\r\u001b[K     |█████████▍                      | 225kB 7.4MB/s eta 0:00:01\r\u001b[K     |█████████▉                      | 235kB 7.4MB/s eta 0:00:01\r\u001b[K     |██████████▎                     | 245kB 7.4MB/s eta 0:00:01\r\u001b[K     |██████████▋                     | 256kB 7.4MB/s eta 0:00:01\r\u001b[K     |███████████                     | 266kB 7.4MB/s eta 0:00:01\r\u001b[K     |███████████▌                    | 276kB 7.4MB/s eta 0:00:01\r\u001b[K     |████████████                    | 286kB 7.4MB/s eta 0:00:01\r\u001b[K     |████████████▍                   | 296kB 7.4MB/s eta 0:00:01\r\u001b[K     |████████████▉                   | 307kB 7.4MB/s eta 0:00:01\r\u001b[K     |█████████████▏                  | 317kB 7.4MB/s eta 0:00:01\r\u001b[K     |█████████████▋                  | 327kB 7.4MB/s eta 0:00:01\r\u001b[K     |██████████████                  | 337kB 7.4MB/s eta 0:00:01\r\u001b[K     |██████████████▌                 | 348kB 7.4MB/s eta 0:00:01\r\u001b[K     |███████████████                 | 358kB 7.4MB/s eta 0:00:01\r\u001b[K     |███████████████▍                | 368kB 7.4MB/s eta 0:00:01\r\u001b[K     |███████████████▊                | 378kB 7.4MB/s eta 0:00:01\r\u001b[K     |████████████████▏               | 389kB 7.4MB/s eta 0:00:01\r\u001b[K     |████████████████▋               | 399kB 7.4MB/s eta 0:00:01\r\u001b[K     |█████████████████               | 409kB 7.4MB/s eta 0:00:01\r\u001b[K     |█████████████████▌              | 419kB 7.4MB/s eta 0:00:01\r\u001b[K     |██████████████████              | 430kB 7.4MB/s eta 0:00:01\r\u001b[K     |██████████████████▎             | 440kB 7.4MB/s eta 0:00:01\r\u001b[K     |██████████████████▊             | 450kB 7.4MB/s eta 0:00:01\r\u001b[K     |███████████████████▏            | 460kB 7.4MB/s eta 0:00:01\r\u001b[K     |███████████████████▋            | 471kB 7.4MB/s eta 0:00:01\r\u001b[K     |████████████████████            | 481kB 7.4MB/s eta 0:00:01\r\u001b[K     |████████████████████▌           | 491kB 7.4MB/s eta 0:00:01\r\u001b[K     |████████████████████▉           | 501kB 7.4MB/s eta 0:00:01\r\u001b[K     |█████████████████████▎          | 512kB 7.4MB/s eta 0:00:01\r\u001b[K     |█████████████████████▊          | 522kB 7.4MB/s eta 0:00:01\r\u001b[K     |██████████████████████▏         | 532kB 7.4MB/s eta 0:00:01\r\u001b[K     |██████████████████████▋         | 542kB 7.4MB/s eta 0:00:01\r\u001b[K     |███████████████████████         | 552kB 7.4MB/s eta 0:00:01\r\u001b[K     |███████████████████████▍        | 563kB 7.4MB/s eta 0:00:01\r\u001b[K     |███████████████████████▉        | 573kB 7.4MB/s eta 0:00:01\r\u001b[K     |████████████████████████▎       | 583kB 7.4MB/s eta 0:00:01\r\u001b[K     |████████████████████████▊       | 593kB 7.4MB/s eta 0:00:01\r\u001b[K     |█████████████████████████▏      | 604kB 7.4MB/s eta 0:00:01\r\u001b[K     |█████████████████████████▋      | 614kB 7.4MB/s eta 0:00:01\r\u001b[K     |██████████████████████████      | 624kB 7.4MB/s eta 0:00:01\r\u001b[K     |██████████████████████████▍     | 634kB 7.4MB/s eta 0:00:01\r\u001b[K     |██████████████████████████▉     | 645kB 7.4MB/s eta 0:00:01\r\u001b[K     |███████████████████████████▎    | 655kB 7.4MB/s eta 0:00:01\r\u001b[K     |███████████████████████████▊    | 665kB 7.4MB/s eta 0:00:01\r\u001b[K     |████████████████████████████▏   | 675kB 7.4MB/s eta 0:00:01\r\u001b[K     |████████████████████████████▌   | 686kB 7.4MB/s eta 0:00:01\r\u001b[K     |█████████████████████████████   | 696kB 7.4MB/s eta 0:00:01\r\u001b[K     |█████████████████████████████▍  | 706kB 7.4MB/s eta 0:00:01\r\u001b[K     |█████████████████████████████▉  | 716kB 7.4MB/s eta 0:00:01\r\u001b[K     |██████████████████████████████▎ | 727kB 7.4MB/s eta 0:00:01\r\u001b[K     |██████████████████████████████▊ | 737kB 7.4MB/s eta 0:00:01\r\u001b[K     |███████████████████████████████ | 747kB 7.4MB/s eta 0:00:01\r\u001b[K     |███████████████████████████████▌| 757kB 7.4MB/s eta 0:00:01\r\u001b[K     |████████████████████████████████| 768kB 7.4MB/s eta 0:00:01\r\u001b[K     |████████████████████████████████| 778kB 7.4MB/s \n",
            "\u001b[?25hRequirement already satisfied: regex!=2019.12.17 in /usr/local/lib/python3.6/dist-packages (from transformers) (2019.12.20)\n",
            "Collecting sentencepiece!=0.1.92\n",
            "\u001b[?25l  Downloading https://files.pythonhosted.org/packages/d4/a4/d0a884c4300004a78cca907a6ff9a5e9fe4f090f5d95ab341c53d28cbc58/sentencepiece-0.1.91-cp36-cp36m-manylinux1_x86_64.whl (1.1MB)\n",
            "\u001b[K     |████████████████████████████████| 1.1MB 22.5MB/s \n",
            "\u001b[?25hCollecting tokenizers==0.8.1.rc1\n",
            "\u001b[?25l  Downloading https://files.pythonhosted.org/packages/40/d0/30d5f8d221a0ed981a186c8eb986ce1c94e3a6e87f994eae9f4aa5250217/tokenizers-0.8.1rc1-cp36-cp36m-manylinux1_x86_64.whl (3.0MB)\n",
            "\u001b[K     |████████████████████████████████| 3.0MB 20.0MB/s \n",
            "\u001b[?25hRequirement already satisfied: packaging in /usr/local/lib/python3.6/dist-packages (from transformers) (20.4)\n",
            "Collecting sacremoses\n",
            "\u001b[?25l  Downloading https://files.pythonhosted.org/packages/7d/34/09d19aff26edcc8eb2a01bed8e98f13a1537005d31e95233fd48216eed10/sacremoses-0.0.43.tar.gz (883kB)\n",
            "\u001b[K     |████████████████████████████████| 890kB 42.5MB/s \n",
            "\u001b[?25hRequirement already satisfied: requests in /usr/local/lib/python3.6/dist-packages (from transformers) (2.23.0)\n",
            "Requirement already satisfied: dataclasses; python_version < \"3.7\" in /usr/local/lib/python3.6/dist-packages (from transformers) (0.7)\n",
            "Requirement already satisfied: tqdm>=4.27 in /usr/local/lib/python3.6/dist-packages (from transformers) (4.41.1)\n",
            "Requirement already satisfied: filelock in /usr/local/lib/python3.6/dist-packages (from transformers) (3.0.12)\n",
            "Requirement already satisfied: numpy in /usr/local/lib/python3.6/dist-packages (from transformers) (1.18.5)\n",
            "Requirement already satisfied: pyparsing>=2.0.2 in /usr/local/lib/python3.6/dist-packages (from packaging->transformers) (2.4.7)\n",
            "Requirement already satisfied: six in /usr/local/lib/python3.6/dist-packages (from packaging->transformers) (1.15.0)\n",
            "Requirement already satisfied: click in /usr/local/lib/python3.6/dist-packages (from sacremoses->transformers) (7.1.2)\n",
            "Requirement already satisfied: joblib in /usr/local/lib/python3.6/dist-packages (from sacremoses->transformers) (0.16.0)\n",
            "Requirement already satisfied: idna<3,>=2.5 in /usr/local/lib/python3.6/dist-packages (from requests->transformers) (2.10)\n",
            "Requirement already satisfied: chardet<4,>=3.0.2 in /usr/local/lib/python3.6/dist-packages (from requests->transformers) (3.0.4)\n",
            "Requirement already satisfied: certifi>=2017.4.17 in /usr/local/lib/python3.6/dist-packages (from requests->transformers) (2020.6.20)\n",
            "Requirement already satisfied: urllib3!=1.25.0,!=1.25.1,<1.26,>=1.21.1 in /usr/local/lib/python3.6/dist-packages (from requests->transformers) (1.24.3)\n",
            "Building wheels for collected packages: sacremoses\n",
            "  Building wheel for sacremoses (setup.py) ... \u001b[?25l\u001b[?25hdone\n",
            "  Created wheel for sacremoses: filename=sacremoses-0.0.43-cp36-none-any.whl size=893260 sha256=8c1c8080471b1a72a6a923ecb30ec5bac45053cd13c90dce9b858fdd16141fe2\n",
            "  Stored in directory: /root/.cache/pip/wheels/29/3c/fd/7ce5c3f0666dab31a50123635e6fb5e19ceb42ce38d4e58f45\n",
            "Successfully built sacremoses\n",
            "Installing collected packages: sentencepiece, tokenizers, sacremoses, transformers\n",
            "Successfully installed sacremoses-0.0.43 sentencepiece-0.1.91 tokenizers-0.8.1rc1 transformers-3.0.2\n"
          ],
          "name": "stdout"
        }
      ]
    },
    {
      "cell_type": "code",
      "metadata": {
        "id": "MeKHfOoA95ky",
        "colab_type": "code",
        "colab": {
          "base_uri": "https://localhost:8080/",
          "height": 68
        },
        "outputId": "e0d153cc-e0e2-4497-884c-21a2e8253e72"
      },
      "source": [
        "import argparse\n",
        "\n",
        "import pandas as pd\n",
        "from tqdm import tqdm\n",
        "\n",
        "import torch\n",
        "import transformers as optimus\n",
        "\n",
        "import nltk\n",
        "nltk.download('punkt')"
      ],
      "execution_count": 12,
      "outputs": [
        {
          "output_type": "stream",
          "text": [
            "[nltk_data] Downloading package punkt to /root/nltk_data...\n",
            "[nltk_data]   Unzipping tokenizers/punkt.zip.\n"
          ],
          "name": "stdout"
        },
        {
          "output_type": "execute_result",
          "data": {
            "text/plain": [
              "True"
            ]
          },
          "metadata": {
            "tags": []
          },
          "execution_count": 12
        }
      ]
    },
    {
      "cell_type": "code",
      "metadata": {
        "id": "C5GP5AnZ-O2A",
        "colab_type": "code",
        "colab": {}
      },
      "source": [
        "def load_train_data(input_dir):\n",
        "    df = pd.read_csv(input_dir + \"train-QA.csv\", sep=\"\\t\", names=['id', 'ques', 'ans', 'sentiment'])\n",
        "    return df"
      ],
      "execution_count": 3,
      "outputs": []
    },
    {
      "cell_type": "code",
      "metadata": {
        "id": "t9q16QCR-nFg",
        "colab_type": "code",
        "colab": {}
      },
      "source": [
        "def hyper_params():\n",
        "    BATCH_SIZE = 32\n",
        "    MAX_SEQ_LENGTH = 512\n",
        "    return BATCH_SIZE, MAX_SEQ_LENGTH"
      ],
      "execution_count": 48,
      "outputs": []
    },
    {
      "cell_type": "code",
      "metadata": {
        "id": "9h81rysT9-lP",
        "colab_type": "code",
        "colab": {
          "base_uri": "https://localhost:8080/",
          "height": 122
        },
        "outputId": "f4c9a113-17b2-4a08-883d-21affe03bed3"
      },
      "source": [
        "device = torch.device(\"cuda\" if torch.cuda.is_available() else \"cpu\")\n",
        "\n",
        "model_class, tokenizer_class, pretrained_weights = (\n",
        "    optimus.BertForSequenceClassification,\n",
        "    optimus.BertTokenizer,\n",
        "    \"bert-base-uncased\",\n",
        ")\n",
        "\n",
        "tokenizer = tokenizer_class.from_pretrained(pretrained_weights)\n",
        "model = model_class.from_pretrained(pretrained_weights)"
      ],
      "execution_count": 28,
      "outputs": [
        {
          "output_type": "stream",
          "text": [
            "Some weights of the model checkpoint at bert-base-uncased were not used when initializing BertForSequenceClassification: ['cls.predictions.bias', 'cls.predictions.transform.dense.weight', 'cls.predictions.transform.dense.bias', 'cls.predictions.decoder.weight', 'cls.seq_relationship.weight', 'cls.seq_relationship.bias', 'cls.predictions.transform.LayerNorm.weight', 'cls.predictions.transform.LayerNorm.bias']\n",
            "- This IS expected if you are initializing BertForSequenceClassification from the checkpoint of a model trained on another task or with another architecture (e.g. initializing a BertForSequenceClassification model from a BertForPretraining model).\n",
            "- This IS NOT expected if you are initializing BertForSequenceClassification from the checkpoint of a model that you expect to be exactly identical (initializing a BertForSequenceClassification model from a BertForSequenceClassification model).\n",
            "Some weights of BertForSequenceClassification were not initialized from the model checkpoint at bert-base-uncased and are newly initialized: ['classifier.weight', 'classifier.bias']\n",
            "You should probably TRAIN this model on a down-stream task to be able to use it for predictions and inference.\n"
          ],
          "name": "stderr"
        }
      ]
    },
    {
      "cell_type": "code",
      "metadata": {
        "id": "mhRCLmNdYaG9",
        "colab_type": "code",
        "colab": {
          "base_uri": "https://localhost:8080/",
          "height": 88
        },
        "outputId": "6d32634e-0e05-4f48-a396-1b789ea1e4cb"
      },
      "source": [
        "!python create_data.py"
      ],
      "execution_count": 14,
      "outputs": [
        {
          "output_type": "stream",
          "text": [
            "2977\n",
            "(1430, ['LOCATION1', 'is', 'transforming', 'and', 'the', 'prices', 'will', 'go', 'up', 'and', 'up'], 'LOCATION1', 'price', 'Negative')\n",
            "45025\n"
          ],
          "name": "stdout"
        }
      ]
    },
    {
      "cell_type": "code",
      "metadata": {
        "id": "RaWgHf8OY7-y",
        "colab_type": "code",
        "colab": {
          "base_uri": "https://localhost:8080/",
          "height": 34
        },
        "outputId": "87bd30b3-8f42-491f-dfd5-e8d6b82ae7e1"
      },
      "source": [
        "train_data = load_train_data('QA_pairs/')\n",
        "\n",
        "batch_size, max_seq_len = hyper_params()\n",
        "num_training_steps = int(len(train_data) / batch_size)\n",
        "print(len(train_data))"
      ],
      "execution_count": 32,
      "outputs": [
        {
          "output_type": "stream",
          "text": [
            "45025\n"
          ],
          "name": "stdout"
        }
      ]
    },
    {
      "cell_type": "code",
      "metadata": {
        "id": "a-zS_agDV8MA",
        "colab_type": "code",
        "colab": {
          "base_uri": "https://localhost:8080/",
          "height": 34
        },
        "outputId": "0cba97f2-24c2-4b30-b2a4-fec26a2132f8"
      },
      "source": [
        "tokenizer.encode('hi! my name is sumanth', add_special_tokens=True)"
      ],
      "execution_count": 7,
      "outputs": [
        {
          "output_type": "execute_result",
          "data": {
            "text/plain": [
              "[101, 7632, 999, 2026, 2171, 2003, 7680, 4630, 2232, 102]"
            ]
          },
          "metadata": {
            "tags": []
          },
          "execution_count": 7
        }
      ]
    },
    {
      "cell_type": "code",
      "metadata": {
        "id": "69IcYZ2qWLZE",
        "colab_type": "code",
        "colab": {
          "base_uri": "https://localhost:8080/",
          "height": 255
        },
        "outputId": "2e9fc87b-a602-4abd-96f2-117b893c996f"
      },
      "source": [
        "tokenizer.tokenize('what do you think about the location1 and the price of location2')"
      ],
      "execution_count": 27,
      "outputs": [
        {
          "output_type": "execute_result",
          "data": {
            "text/plain": [
              "['what',\n",
              " 'do',\n",
              " 'you',\n",
              " 'think',\n",
              " 'about',\n",
              " 'the',\n",
              " 'location',\n",
              " '##1',\n",
              " 'and',\n",
              " 'the',\n",
              " 'price',\n",
              " 'of',\n",
              " 'location',\n",
              " '##2']"
            ]
          },
          "metadata": {
            "tags": []
          },
          "execution_count": 27
        }
      ]
    },
    {
      "cell_type": "code",
      "metadata": {
        "id": "_GyF1y7r_Eps",
        "colab_type": "code",
        "colab": {}
      },
      "source": [
        "train_sample = train_data[:10000]"
      ],
      "execution_count": 19,
      "outputs": []
    },
    {
      "cell_type": "code",
      "metadata": {
        "id": "skO5kvazcgmJ",
        "colab_type": "code",
        "colab": {}
      },
      "source": [
        "tokenized = pd.DataFrame()"
      ],
      "execution_count": 71,
      "outputs": []
    },
    {
      "cell_type": "code",
      "metadata": {
        "id": "0_jgOd7Q-hh1",
        "colab_type": "code",
        "colab": {}
      },
      "source": [
        "tokenized['input_ids'] = train_sample['ques'].apply(lambda x: tokenizer.encode(x, add_special_tokens=True))"
      ],
      "execution_count": 72,
      "outputs": []
    },
    {
      "cell_type": "code",
      "metadata": {
        "id": "16DkvxEXc3p5",
        "colab_type": "code",
        "colab": {}
      },
      "source": [
        "tokenized['input_mask'] = ''\n",
        "for i, row in tokenized.iterrows():\n",
        "  tokenized.iloc[i]['input_mask'] = [1]*len(tokenized.iloc[i]['input_ids'])"
      ],
      "execution_count": 73,
      "outputs": []
    },
    {
      "cell_type": "code",
      "metadata": {
        "id": "BEl0HyrvMLcF",
        "colab_type": "code",
        "colab": {}
      },
      "source": [
        "tokenized['input_mask'] = tokenized['input_mask'].apply(lambda x: x + (max_seq_len - len(x))*[0])"
      ],
      "execution_count": 74,
      "outputs": []
    },
    {
      "cell_type": "code",
      "metadata": {
        "id": "KgMdDjKvk9PO",
        "colab_type": "code",
        "colab": {}
      },
      "source": [
        "tokenized['input_ids'] = tokenized['input_ids'].apply(lambda x: x + (max_seq_len - len(x))*[0])"
      ],
      "execution_count": 75,
      "outputs": []
    },
    {
      "cell_type": "code",
      "metadata": {
        "id": "MP7eQSordqBZ",
        "colab_type": "code",
        "colab": {}
      },
      "source": [
        "sent2idx = {\n",
        "    'None': 0,\n",
        "    'Positive': 1,\n",
        "    'Negative': 2\n",
        "}"
      ],
      "execution_count": 76,
      "outputs": []
    },
    {
      "cell_type": "code",
      "metadata": {
        "id": "jVnblG7Lcb1S",
        "colab_type": "code",
        "colab": {}
      },
      "source": [
        "tokenized['label'] = ''\n",
        "tokenized['label'] = train_sample['sentiment'].apply(lambda x: sent2idx[x])"
      ],
      "execution_count": 77,
      "outputs": []
    },
    {
      "cell_type": "code",
      "metadata": {
        "id": "TqZN62v6eUEe",
        "colab_type": "code",
        "colab": {
          "base_uri": "https://localhost:8080/",
          "height": 85
        },
        "outputId": "9fb5833c-846c-44d7-fd70-8ed42b2362f7"
      },
      "source": [
        "train_data['sentiment'].value_counts()"
      ],
      "execution_count": 78,
      "outputs": [
        {
          "output_type": "execute_result",
          "data": {
            "text/plain": [
              "None        41629\n",
              "Positive     2475\n",
              "Negative      921\n",
              "Name: sentiment, dtype: int64"
            ]
          },
          "metadata": {
            "tags": []
          },
          "execution_count": 78
        }
      ]
    },
    {
      "cell_type": "code",
      "metadata": {
        "id": "DwyK7r-Og5n7",
        "colab_type": "code",
        "colab": {}
      },
      "source": [
        "from torch.utils.data import DataLoader, TensorDataset\n",
        "from torch.utils.data.sampler import RandomSampler"
      ],
      "execution_count": 84,
      "outputs": []
    },
    {
      "cell_type": "code",
      "metadata": {
        "id": "ouBDlK6ijqb_",
        "colab_type": "code",
        "colab": {}
      },
      "source": [
        "input_ids = torch.tensor([r for r in tokenized['input_ids']], dtype=torch.long)\n",
        "input_masks = torch.tensor([r for r in tokenized['input_mask']], dtype=torch.long)\n",
        "label_ids = torch.tensor([r for r in tokenized['label']], dtype=torch.long)"
      ],
      "execution_count": 79,
      "outputs": []
    },
    {
      "cell_type": "code",
      "metadata": {
        "id": "wYCJ4fv8j9Vr",
        "colab_type": "code",
        "colab": {}
      },
      "source": [
        "train_dataset = TensorDataset(input_ids, input_masks, label_ids)"
      ],
      "execution_count": 82,
      "outputs": []
    },
    {
      "cell_type": "code",
      "metadata": {
        "id": "K8nJoUrQkZ2A",
        "colab_type": "code",
        "colab": {}
      },
      "source": [
        "train_sampler = RandomSampler(train_dataset)"
      ],
      "execution_count": 86,
      "outputs": []
    },
    {
      "cell_type": "code",
      "metadata": {
        "id": "QRKGkl6XklGH",
        "colab_type": "code",
        "colab": {}
      },
      "source": [
        "train_dataloader = DataLoader(train_dataset, sampler=train_sampler, batch_size=batch_size)"
      ],
      "execution_count": 87,
      "outputs": []
    },
    {
      "cell_type": "code",
      "metadata": {
        "id": "MZ-uuUi7lxBU",
        "colab_type": "code",
        "colab": {}
      },
      "source": [
        ""
      ],
      "execution_count": null,
      "outputs": []
    }
  ]
}